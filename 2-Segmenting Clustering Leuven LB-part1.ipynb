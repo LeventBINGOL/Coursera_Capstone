{
 "cells": [
  {
   "cell_type": "markdown",
   "metadata": {},
   "source": [
    "<h1 align=center><font size = 5>Segmenting and Clustering Neighborhoods in Leuven City (part 1 by Levent Bingol)</font></h1>"
   ]
  },
  {
   "cell_type": "markdown",
   "metadata": {},
   "source": [
    "## Introduction\n",
    "In this project, we will be required to explore, segment, and cluster the neighborhoods in the city of Leuven. For the Leuven neighborhood data, a Wikipedia page exists that has all the information we need to explore and cluster the neighborhoods in Leuven. We will be required to scrape a web page and wrangle the data, clean it, and then read it into a pandas dataframe so that it is in a structured format.\n",
    "\n",
    "Once the data is in a structured format, we will do the analysis on the dataset to explore and cluster the neighborhoods in the city of Leuven."
   ]
  },
  {
   "cell_type": "markdown",
   "metadata": {},
   "source": [
    "## Table of Contents\n",
    "\n",
    "\n",
    "<div class=\"alert alert-block alert-info\" style=\"margin-top: 20px\">\n",
    "\n",
    "<font size = 3>\n",
    "\n",
    " <a href=\"#item1\"> Data Gathering and PreProcessing (Webscrape the Data from web page into Dataframe)(Part 1)</a>\n",
    "    \n",
    "    \n",
    "</font>\n",
    "</div>"
   ]
  },
  {
   "cell_type": "markdown",
   "metadata": {},
   "source": [
    "### Import necessary libraries for part 1\n",
    "Before we get the data and start exploring it, let's download all the dependencies that we will need.\n",
    "In this projecet especially we will use necessary Libraries such as BeautifulSoup and requests for Web Scraping."
   ]
  },
  {
   "cell_type": "code",
   "execution_count": 1,
   "metadata": {},
   "outputs": [
    {
     "name": "stdout",
     "output_type": "stream",
     "text": [
      "Libraries imported.\n"
     ]
    }
   ],
   "source": [
    "import numpy as np # library to handle data in a vectorized manner\n",
    "\n",
    "import pandas as pd # library for data analsysis\n",
    "\n",
    "#import webscraping libraries\n",
    "from bs4 import BeautifulSoup\n",
    "import requests # library to handle requests\n",
    "#from pandas.io.json import json_normalize # tranform JSON file into a pandas dataframe\n",
    "print('Libraries imported.')"
   ]
  },
  {
   "cell_type": "markdown",
   "metadata": {},
   "source": [
    "## 1. Data Gathering and PreProcessing (Webscrape the Data from web page into Dataframe)\n",
    "I have three different methods two scrape the data as shown below.We can use one of the following methods to get the necessary html file and data from the Vlaanderen.be page.\n",
    "    \n",
    "    a .Pandas method \n",
    "    \n",
    "    b. BeautifulSoup method:\n"
   ]
  },
  {
   "cell_type": "markdown",
   "metadata": {},
   "source": [
    "## a. Pandas method\n",
    "In this method we will use url and requests library and the with pandas text file will be transfered into into dataframe\n"
   ]
  },
  {
   "cell_type": "code",
   "execution_count": 2,
   "metadata": {},
   "outputs": [
    {
     "data": {
      "text/html": [
       "<div>\n",
       "<style scoped>\n",
       "    .dataframe tbody tr th:only-of-type {\n",
       "        vertical-align: middle;\n",
       "    }\n",
       "\n",
       "    .dataframe tbody tr th {\n",
       "        vertical-align: top;\n",
       "    }\n",
       "\n",
       "    .dataframe thead th {\n",
       "        text-align: right;\n",
       "    }\n",
       "</style>\n",
       "<table border=\"1\" class=\"dataframe\">\n",
       "  <thead>\n",
       "    <tr style=\"text-align: right;\">\n",
       "      <th></th>\n",
       "      <th>0</th>\n",
       "      <th>1</th>\n",
       "    </tr>\n",
       "  </thead>\n",
       "  <tbody>\n",
       "    <tr>\n",
       "      <th>0</th>\n",
       "      <td>Postcode(s)</td>\n",
       "      <td>3000, 3001, 3010, 3012, 3018</td>\n",
       "    </tr>\n",
       "    <tr>\n",
       "      <th>1</th>\n",
       "      <td>Deelgemeenten</td>\n",
       "      <td>Leuven, Heverlee, Kessel-Lo, Wilsele, Wijgmaal</td>\n",
       "    </tr>\n",
       "  </tbody>\n",
       "</table>\n",
       "</div>"
      ],
      "text/plain": [
       "               0                                               1\n",
       "0    Postcode(s)                    3000, 3001, 3010, 3012, 3018\n",
       "1  Deelgemeenten  Leuven, Heverlee, Kessel-Lo, Wilsele, Wijgmaal"
      ]
     },
     "execution_count": 2,
     "metadata": {},
     "output_type": "execute_result"
    }
   ],
   "source": [
    "#to get the table method-1\n",
    "\n",
    "url=\"https://www.vlaanderen.be/gemeenten-en-provincies/provincie-vlaams-brabant/leuven\"\n",
    "LeuvenSource = requests.get(url).text\n",
    "\n",
    "tables = pd.read_html(LeuvenSource)\n",
    "# result of first method \n",
    "df=pd.DataFrame(tables[0])\n",
    "df\n",
    "#LeuvenSource"
   ]
  },
  {
   "cell_type": "code",
   "execution_count": 5,
   "metadata": {},
   "outputs": [
    {
     "data": {
      "text/html": [
       "<div>\n",
       "<style scoped>\n",
       "    .dataframe tbody tr th:only-of-type {\n",
       "        vertical-align: middle;\n",
       "    }\n",
       "\n",
       "    .dataframe tbody tr th {\n",
       "        vertical-align: top;\n",
       "    }\n",
       "\n",
       "    .dataframe thead th {\n",
       "        text-align: right;\n",
       "    }\n",
       "</style>\n",
       "<table border=\"1\" class=\"dataframe\">\n",
       "  <thead>\n",
       "    <tr style=\"text-align: right;\">\n",
       "      <th></th>\n",
       "      <th>0</th>\n",
       "      <th>1</th>\n",
       "      <th>2</th>\n",
       "      <th>3</th>\n",
       "      <th>4</th>\n",
       "    </tr>\n",
       "  </thead>\n",
       "  <tbody>\n",
       "    <tr>\n",
       "      <th>0</th>\n",
       "      <td>3000</td>\n",
       "      <td>3001</td>\n",
       "      <td>3010</td>\n",
       "      <td>3012</td>\n",
       "      <td>3018</td>\n",
       "    </tr>\n",
       "    <tr>\n",
       "      <th>1</th>\n",
       "      <td>Leuven</td>\n",
       "      <td>Heverlee</td>\n",
       "      <td>Kessel-Lo</td>\n",
       "      <td>Wilsele</td>\n",
       "      <td>Wijgmaal</td>\n",
       "    </tr>\n",
       "  </tbody>\n",
       "</table>\n",
       "</div>"
      ],
      "text/plain": [
       "        0          1           2         3          4\n",
       "0    3000       3001        3010      3012       3018\n",
       "1  Leuven   Heverlee   Kessel-Lo   Wilsele   Wijgmaal"
      ]
     },
     "execution_count": 5,
     "metadata": {},
     "output_type": "execute_result"
    }
   ],
   "source": [
    "\n",
    "df = pd.DataFrame(df, columns=[1])\n",
    "df= df[1].apply(lambda x : pd.Series(x.split(','))).head()\n",
    "df"
   ]
  },
  {
   "cell_type": "code",
   "execution_count": 6,
   "metadata": {},
   "outputs": [],
   "source": [
    "#pre-processing the data frame\n",
    "neighborhoods=df.transpose()\n",
    "neighborhoods[2]=neighborhoods[1]\n",
    "#we know that borough is Leuven city so we set it into the table\n",
    "neighborhoods[1]=['Leuven','Leuven','Leuven','Leuven','Leuven']\n",
    "neighborhoods.columns = ['PostalCode','Borough', 'Neighborhood'] "
   ]
  },
  {
   "cell_type": "code",
   "execution_count": 7,
   "metadata": {},
   "outputs": [
    {
     "data": {
      "text/html": [
       "<div>\n",
       "<style scoped>\n",
       "    .dataframe tbody tr th:only-of-type {\n",
       "        vertical-align: middle;\n",
       "    }\n",
       "\n",
       "    .dataframe tbody tr th {\n",
       "        vertical-align: top;\n",
       "    }\n",
       "\n",
       "    .dataframe thead th {\n",
       "        text-align: right;\n",
       "    }\n",
       "</style>\n",
       "<table border=\"1\" class=\"dataframe\">\n",
       "  <thead>\n",
       "    <tr style=\"text-align: right;\">\n",
       "      <th></th>\n",
       "      <th>PostalCode</th>\n",
       "      <th>Borough</th>\n",
       "      <th>Neighborhood</th>\n",
       "    </tr>\n",
       "  </thead>\n",
       "  <tbody>\n",
       "    <tr>\n",
       "      <th>0</th>\n",
       "      <td>3000</td>\n",
       "      <td>Leuven</td>\n",
       "      <td>Leuven</td>\n",
       "    </tr>\n",
       "    <tr>\n",
       "      <th>1</th>\n",
       "      <td>3001</td>\n",
       "      <td>Leuven</td>\n",
       "      <td>Heverlee</td>\n",
       "    </tr>\n",
       "    <tr>\n",
       "      <th>2</th>\n",
       "      <td>3010</td>\n",
       "      <td>Leuven</td>\n",
       "      <td>Kessel-Lo</td>\n",
       "    </tr>\n",
       "    <tr>\n",
       "      <th>3</th>\n",
       "      <td>3012</td>\n",
       "      <td>Leuven</td>\n",
       "      <td>Wilsele</td>\n",
       "    </tr>\n",
       "    <tr>\n",
       "      <th>4</th>\n",
       "      <td>3018</td>\n",
       "      <td>Leuven</td>\n",
       "      <td>Wijgmaal</td>\n",
       "    </tr>\n",
       "  </tbody>\n",
       "</table>\n",
       "</div>"
      ],
      "text/plain": [
       "  PostalCode Borough Neighborhood\n",
       "0       3000  Leuven       Leuven\n",
       "1       3001  Leuven     Heverlee\n",
       "2       3010  Leuven    Kessel-Lo\n",
       "3       3012  Leuven      Wilsele\n",
       "4       3018  Leuven     Wijgmaal"
      ]
     },
     "execution_count": 7,
     "metadata": {},
     "output_type": "execute_result"
    }
   ],
   "source": [
    "neighborhoods"
   ]
  },
  {
   "cell_type": "markdown",
   "metadata": {},
   "source": [
    "## b. BeautifulSoup method:\n",
    "\n",
    "We can downlad the web page as html file and then convert to file into lxml file for parsing. We can do this step by using !wget method or requests library (get method) then use BeautifulSoup capabilities."
   ]
  },
  {
   "cell_type": "code",
   "execution_count": 8,
   "metadata": {},
   "outputs": [
    {
     "name": "stdout",
     "output_type": "stream",
     "text": [
      "Data downloaded!\n"
     ]
    }
   ],
   "source": [
    "#We can get the html info in two alternatives also.Then scraped data into lxml file with Beautifulsoup\n",
    "#to get the HTML file first method-1\n",
    "\n",
    "!wget -q -O 'Leuvenpost.html' https://www.vlaanderen.be/gemeenten-en-provincies/provincie-vlaams-brabant/leuven\n",
    "print('Data downloaded!')\n",
    "with open('Leuvenpost.html') as can_html_file:\n",
    "    soup=BeautifulSoup(can_html_file,'lxml')\n",
    "    \n",
    "#to get the HTML file second method-2\n",
    "LeuvenSource2= requests.get(\"https://www.vlaanderen.be/gemeenten-en-provincies/provincie-vlaams-brabant/leuven\").text\n",
    "soup=BeautifulSoup(LeuvenSource2,'lxml')\n",
    "#soup"
   ]
  },
  {
   "cell_type": "markdown",
   "metadata": {},
   "source": [
    "Now, with the following code we scrape the table data in the html file into tableLeuven element by using BeautifulSoup. In the following steps we will turn this information into pandas data frame. You can prettify the information and examine to see the hierarchy in the data."
   ]
  },
  {
   "cell_type": "code",
   "execution_count": 9,
   "metadata": {},
   "outputs": [
    {
     "name": "stdout",
     "output_type": "stream",
     "text": [
      "<table class=\"data-table data-table--no-header\">\n",
      " <tbody>\n",
      "  <tr>\n",
      "   <td class=\"data-table__body-title\">\n",
      "    Postcode(s)\n",
      "   </td>\n",
      "   <td>\n",
      "    3000, 3001, 3010, 3012, 3018\n",
      "   </td>\n",
      "  </tr>\n",
      "  <tr>\n",
      "   <td class=\"data-table__body-title\">\n",
      "    Deelgemeenten\n",
      "   </td>\n",
      "   <td>\n",
      "    Leuven, Heverlee, Kessel-Lo, Wilsele, Wijgmaal\n",
      "   </td>\n",
      "  </tr>\n",
      " </tbody>\n",
      "</table>\n"
     ]
    }
   ],
   "source": [
    "tableLeuven=soup.find('table')\n",
    "print(tableLeuven.prettify())"
   ]
  },
  {
   "cell_type": "markdown",
   "metadata": {},
   "source": [
    "When we examine the tableLeuven data we will see that the necessary information stays between <td> parts. And each is in order with groups of postalcode, borough and neighborhood following each other. To get the data easier out from html element we will use fin_all method of Beautifulsoup library."
   ]
  },
  {
   "cell_type": "code",
   "execution_count": 10,
   "metadata": {},
   "outputs": [
    {
     "data": {
      "text/plain": [
       "[<td class=\"data-table__body-title\">Postcode(s)</td>,\n",
       " <td>3000, 3001, 3010, 3012, 3018</td>,\n",
       " <td class=\"data-table__body-title\">Deelgemeenten</td>,\n",
       " <td>Leuven, Heverlee, Kessel-Lo, Wilsele, Wijgmaal</td>]"
      ]
     },
     "execution_count": 10,
     "metadata": {},
     "output_type": "execute_result"
    }
   ],
   "source": [
    "#Table content in a list. the order in three groups is such as postalcode,borough and neighborhood\n",
    "tableContent=tableLeuven.find_all ('td')\n",
    "tableContent[0:9]"
   ]
  },
  {
   "cell_type": "markdown",
   "metadata": {},
   "source": [
    "Now we have a list and with the following codes we can exploer the data inside the list. Then we learn how to get the postcode and neighborhood information. Borough is Leuven City."
   ]
  },
  {
   "cell_type": "markdown",
   "metadata": {},
   "source": [
    "Then we get ready to scrape the data into a dataframe. So lets define the columns of our neighborhoods data frame that place the Leuven postal code and neighborhood information."
   ]
  },
  {
   "cell_type": "code",
   "execution_count": 12,
   "metadata": {},
   "outputs": [
    {
     "data": {
      "text/html": [
       "<div>\n",
       "<style scoped>\n",
       "    .dataframe tbody tr th:only-of-type {\n",
       "        vertical-align: middle;\n",
       "    }\n",
       "\n",
       "    .dataframe tbody tr th {\n",
       "        vertical-align: top;\n",
       "    }\n",
       "\n",
       "    .dataframe thead th {\n",
       "        text-align: right;\n",
       "    }\n",
       "</style>\n",
       "<table border=\"1\" class=\"dataframe\">\n",
       "  <thead>\n",
       "    <tr style=\"text-align: right;\">\n",
       "      <th></th>\n",
       "      <th>PostalCode</th>\n",
       "      <th>Borough</th>\n",
       "      <th>Neighborhood</th>\n",
       "    </tr>\n",
       "  </thead>\n",
       "  <tbody>\n",
       "  </tbody>\n",
       "</table>\n",
       "</div>"
      ],
      "text/plain": [
       "Empty DataFrame\n",
       "Columns: [PostalCode, Borough, Neighborhood]\n",
       "Index: []"
      ]
     },
     "execution_count": 12,
     "metadata": {},
     "output_type": "execute_result"
    }
   ],
   "source": [
    "# define the dataframe columns\n",
    "column_names = ['PostalCode','Borough', 'Neighborhood'] \n",
    "\n",
    "# instantiate the dataframe\n",
    "neighborhoods2= pd.DataFrame(columns=column_names)\n",
    "neighborhoods2"
   ]
  },
  {
   "cell_type": "code",
   "execution_count": 36,
   "metadata": {},
   "outputs": [],
   "source": [
    "a=tableContent[1].text.split(',')\n",
    "b=tableContent[3].text.split(',')\n",
    "neighborhoods2['PostalCode']=a\n",
    "neighborhoods2['Neighborhood']=b\n",
    "#we know that borough is Leuven city so we set it into the table\n",
    "neighborhoods2['Borough']=['Leuven','Leuven','Leuven','Leuven','Leuven']"
   ]
  },
  {
   "cell_type": "code",
   "execution_count": 37,
   "metadata": {},
   "outputs": [
    {
     "data": {
      "text/html": [
       "<div>\n",
       "<style scoped>\n",
       "    .dataframe tbody tr th:only-of-type {\n",
       "        vertical-align: middle;\n",
       "    }\n",
       "\n",
       "    .dataframe tbody tr th {\n",
       "        vertical-align: top;\n",
       "    }\n",
       "\n",
       "    .dataframe thead th {\n",
       "        text-align: right;\n",
       "    }\n",
       "</style>\n",
       "<table border=\"1\" class=\"dataframe\">\n",
       "  <thead>\n",
       "    <tr style=\"text-align: right;\">\n",
       "      <th></th>\n",
       "      <th>PostalCode</th>\n",
       "      <th>Borough</th>\n",
       "      <th>Neighborhood</th>\n",
       "    </tr>\n",
       "  </thead>\n",
       "  <tbody>\n",
       "    <tr>\n",
       "      <th>0</th>\n",
       "      <td>3000</td>\n",
       "      <td>Leuven</td>\n",
       "      <td>Leuven</td>\n",
       "    </tr>\n",
       "    <tr>\n",
       "      <th>1</th>\n",
       "      <td>3001</td>\n",
       "      <td>Leuven</td>\n",
       "      <td>Heverlee</td>\n",
       "    </tr>\n",
       "    <tr>\n",
       "      <th>2</th>\n",
       "      <td>3010</td>\n",
       "      <td>Leuven</td>\n",
       "      <td>Kessel-Lo</td>\n",
       "    </tr>\n",
       "    <tr>\n",
       "      <th>3</th>\n",
       "      <td>3012</td>\n",
       "      <td>Leuven</td>\n",
       "      <td>Wilsele</td>\n",
       "    </tr>\n",
       "    <tr>\n",
       "      <th>4</th>\n",
       "      <td>3018</td>\n",
       "      <td>Leuven</td>\n",
       "      <td>Wijgmaal</td>\n",
       "    </tr>\n",
       "  </tbody>\n",
       "</table>\n",
       "</div>"
      ],
      "text/plain": [
       "  PostalCode Borough Neighborhood\n",
       "0       3000  Leuven       Leuven\n",
       "1       3001  Leuven     Heverlee\n",
       "2       3010  Leuven    Kessel-Lo\n",
       "3       3012  Leuven      Wilsele\n",
       "4       3018  Leuven     Wijgmaal"
      ]
     },
     "execution_count": 37,
     "metadata": {},
     "output_type": "execute_result"
    }
   ],
   "source": [
    "neighborhoods2"
   ]
  },
  {
   "cell_type": "markdown",
   "metadata": {},
   "source": [
    "Now we can fiil the table with parsing the information from tableContent list into our dataframe with the following loop."
   ]
  },
  {
   "cell_type": "markdown",
   "metadata": {},
   "source": [
    "Now we can take a look at the current shape and the content of our dataframe. Then we will do some preprocessing and cleaning in the following section."
   ]
  },
  {
   "cell_type": "code",
   "execution_count": 38,
   "metadata": {},
   "outputs": [
    {
     "data": {
      "text/html": [
       "<div>\n",
       "<style scoped>\n",
       "    .dataframe tbody tr th:only-of-type {\n",
       "        vertical-align: middle;\n",
       "    }\n",
       "\n",
       "    .dataframe tbody tr th {\n",
       "        vertical-align: top;\n",
       "    }\n",
       "\n",
       "    .dataframe thead th {\n",
       "        text-align: right;\n",
       "    }\n",
       "</style>\n",
       "<table border=\"1\" class=\"dataframe\">\n",
       "  <thead>\n",
       "    <tr style=\"text-align: right;\">\n",
       "      <th></th>\n",
       "      <th>PostalCode</th>\n",
       "      <th>Borough</th>\n",
       "      <th>Neighborhood</th>\n",
       "    </tr>\n",
       "  </thead>\n",
       "  <tbody>\n",
       "    <tr>\n",
       "      <th>0</th>\n",
       "      <td>3000</td>\n",
       "      <td>Leuven</td>\n",
       "      <td>Leuven</td>\n",
       "    </tr>\n",
       "    <tr>\n",
       "      <th>1</th>\n",
       "      <td>3001</td>\n",
       "      <td>Leuven</td>\n",
       "      <td>Heverlee</td>\n",
       "    </tr>\n",
       "    <tr>\n",
       "      <th>2</th>\n",
       "      <td>3010</td>\n",
       "      <td>Leuven</td>\n",
       "      <td>Kessel-Lo</td>\n",
       "    </tr>\n",
       "    <tr>\n",
       "      <th>3</th>\n",
       "      <td>3012</td>\n",
       "      <td>Leuven</td>\n",
       "      <td>Wilsele</td>\n",
       "    </tr>\n",
       "    <tr>\n",
       "      <th>4</th>\n",
       "      <td>3018</td>\n",
       "      <td>Leuven</td>\n",
       "      <td>Wijgmaal</td>\n",
       "    </tr>\n",
       "  </tbody>\n",
       "</table>\n",
       "</div>"
      ],
      "text/plain": [
       "  PostalCode Borough Neighborhood\n",
       "0       3000  Leuven       Leuven\n",
       "1       3001  Leuven     Heverlee\n",
       "2       3010  Leuven    Kessel-Lo\n",
       "3       3012  Leuven      Wilsele\n",
       "4       3018  Leuven     Wijgmaal"
      ]
     },
     "execution_count": 38,
     "metadata": {},
     "output_type": "execute_result"
    }
   ],
   "source": [
    "#Pandas method\n",
    "neighborhoods.head()\n",
    "#neighborhoods.shape"
   ]
  },
  {
   "cell_type": "code",
   "execution_count": 39,
   "metadata": {},
   "outputs": [
    {
     "data": {
      "text/html": [
       "<div>\n",
       "<style scoped>\n",
       "    .dataframe tbody tr th:only-of-type {\n",
       "        vertical-align: middle;\n",
       "    }\n",
       "\n",
       "    .dataframe tbody tr th {\n",
       "        vertical-align: top;\n",
       "    }\n",
       "\n",
       "    .dataframe thead th {\n",
       "        text-align: right;\n",
       "    }\n",
       "</style>\n",
       "<table border=\"1\" class=\"dataframe\">\n",
       "  <thead>\n",
       "    <tr style=\"text-align: right;\">\n",
       "      <th></th>\n",
       "      <th>PostalCode</th>\n",
       "      <th>Borough</th>\n",
       "      <th>Neighborhood</th>\n",
       "    </tr>\n",
       "  </thead>\n",
       "  <tbody>\n",
       "    <tr>\n",
       "      <th>0</th>\n",
       "      <td>3000</td>\n",
       "      <td>Leuven</td>\n",
       "      <td>Leuven</td>\n",
       "    </tr>\n",
       "    <tr>\n",
       "      <th>1</th>\n",
       "      <td>3001</td>\n",
       "      <td>Leuven</td>\n",
       "      <td>Heverlee</td>\n",
       "    </tr>\n",
       "    <tr>\n",
       "      <th>2</th>\n",
       "      <td>3010</td>\n",
       "      <td>Leuven</td>\n",
       "      <td>Kessel-Lo</td>\n",
       "    </tr>\n",
       "    <tr>\n",
       "      <th>3</th>\n",
       "      <td>3012</td>\n",
       "      <td>Leuven</td>\n",
       "      <td>Wilsele</td>\n",
       "    </tr>\n",
       "    <tr>\n",
       "      <th>4</th>\n",
       "      <td>3018</td>\n",
       "      <td>Leuven</td>\n",
       "      <td>Wijgmaal</td>\n",
       "    </tr>\n",
       "  </tbody>\n",
       "</table>\n",
       "</div>"
      ],
      "text/plain": [
       "  PostalCode Borough Neighborhood\n",
       "0       3000  Leuven       Leuven\n",
       "1       3001  Leuven     Heverlee\n",
       "2       3010  Leuven    Kessel-Lo\n",
       "3       3012  Leuven      Wilsele\n",
       "4       3018  Leuven     Wijgmaal"
      ]
     },
     "execution_count": 39,
     "metadata": {},
     "output_type": "execute_result"
    }
   ],
   "source": [
    "# Beautiful Soup method \n",
    "#We compare two solutions we have the same dataframe in the end of both methodology\n",
    "neighborhoods2.head()\n",
    "#neighborhoods.shape"
   ]
  },
  {
   "cell_type": "markdown",
   "metadata": {},
   "source": [
    "Our dataframe now consists of three columns: PostalCode, Borough, and Neighborhood.We now only process the cells that have an assigned borough. We will save the dataframe into csv file"
   ]
  },
  {
   "cell_type": "code",
   "execution_count": 48,
   "metadata": {},
   "outputs": [
    {
     "data": {
      "text/html": [
       "<div>\n",
       "<style scoped>\n",
       "    .dataframe tbody tr th:only-of-type {\n",
       "        vertical-align: middle;\n",
       "    }\n",
       "\n",
       "    .dataframe tbody tr th {\n",
       "        vertical-align: top;\n",
       "    }\n",
       "\n",
       "    .dataframe thead th {\n",
       "        text-align: right;\n",
       "    }\n",
       "</style>\n",
       "<table border=\"1\" class=\"dataframe\">\n",
       "  <thead>\n",
       "    <tr style=\"text-align: right;\">\n",
       "      <th></th>\n",
       "      <th>PostalCode</th>\n",
       "      <th>Borough</th>\n",
       "      <th>Neighborhood</th>\n",
       "    </tr>\n",
       "  </thead>\n",
       "  <tbody>\n",
       "    <tr>\n",
       "      <th>0</th>\n",
       "      <td>3000</td>\n",
       "      <td>Leuven</td>\n",
       "      <td>Leuven</td>\n",
       "    </tr>\n",
       "    <tr>\n",
       "      <th>1</th>\n",
       "      <td>3001</td>\n",
       "      <td>Leuven</td>\n",
       "      <td>Heverlee</td>\n",
       "    </tr>\n",
       "    <tr>\n",
       "      <th>2</th>\n",
       "      <td>3010</td>\n",
       "      <td>Leuven</td>\n",
       "      <td>Kessel-Lo</td>\n",
       "    </tr>\n",
       "    <tr>\n",
       "      <th>3</th>\n",
       "      <td>3012</td>\n",
       "      <td>Leuven</td>\n",
       "      <td>Wilsele</td>\n",
       "    </tr>\n",
       "    <tr>\n",
       "      <th>4</th>\n",
       "      <td>3018</td>\n",
       "      <td>Leuven</td>\n",
       "      <td>Wijgmaal</td>\n",
       "    </tr>\n",
       "  </tbody>\n",
       "</table>\n",
       "</div>"
      ],
      "text/plain": [
       "  PostalCode Borough Neighborhood\n",
       "0       3000  Leuven       Leuven\n",
       "1       3001  Leuven     Heverlee\n",
       "2       3010  Leuven    Kessel-Lo\n",
       "3       3012  Leuven      Wilsele\n",
       "4       3018  Leuven     Wijgmaal"
      ]
     },
     "execution_count": 48,
     "metadata": {},
     "output_type": "execute_result"
    }
   ],
   "source": [
    "neighborhoods.shape\n",
    "len(neighborhoods['PostalCode'].unique())\n",
    "LeuvenDF=neighborhoods\n",
    "LeuvenDF"
   ]
  },
  {
   "cell_type": "code",
   "execution_count": 47,
   "metadata": {},
   "outputs": [],
   "source": [
    "LeuvenDF.to_csv('LeuvenDFpart1.csv', encoding='utf-8', index=False)"
   ]
  },
  {
   "cell_type": "markdown",
   "metadata": {},
   "source": [
    "## This is the end of part 1. Answer for the first question"
   ]
  }
 ],
 "metadata": {
  "kernelspec": {
   "display_name": "Python 3",
   "language": "python",
   "name": "python3"
  },
  "language_info": {
   "codemirror_mode": {
    "name": "ipython",
    "version": 3
   },
   "file_extension": ".py",
   "mimetype": "text/x-python",
   "name": "python",
   "nbconvert_exporter": "python",
   "pygments_lexer": "ipython3",
   "version": "3.6.8"
  }
 },
 "nbformat": 4,
 "nbformat_minor": 2
}
