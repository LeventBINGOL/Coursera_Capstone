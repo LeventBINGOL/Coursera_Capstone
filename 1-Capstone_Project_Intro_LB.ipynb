{
 "cells": [
  {
   "cell_type": "markdown",
   "metadata": {},
   "source": [
    "# A new Food Warehouse in Leuven (Business Recommendation)"
   ]
  },
  {
   "cell_type": "markdown",
   "metadata": {},
   "source": [
    "<img src = \"https://www.mvovlaanderen.be/sites/default/files/styles/mvo_big/public/media/Leuven-by-night.jpeg?itok=j5q5yl8Z\" width = *00> </a>"
   ]
  },
  {
   "cell_type": "markdown",
   "metadata": {},
   "source": [
    "## Part 1: Problem Description\n",
    "### An investor in food sector would like to build up a new supermarket/food warehouse in Leuven (Belgium). The investor would like to deliver fresh and high-quality food products (groceries) to places as Restaurants, Fast Food Stores, Bakeries, Breakfast Venues, Breweries and Cafés. The investor aims to build a food warehouse for the groceries and products bought from local villagers and farmers, in this sense he also would like to get local acceptance and support of people that will also provide more and satisfied customers. Customer satisfaction and Service quality is always main stones in the philosophy of the company.\n",
    "\n",
    "### In order to get a prestigious name in the sector and more profit in terms of money and time, he targets with quick and effective response to the customers; so the location of the food warehouse in an optimum place has utmost importance that will provide easy and timely delivery of products from local farmers and deliver to the related customers (venues) in the city.\n",
    "\n",
    "### The investor would also like to minimize transportation cost by building the warehouse in a close and optimized location to its customers. There are several (5) neighborhoods (Leuven Center, Heverlee, Kessel-Lo, Wilsele and Wijgmaal) in city Leuven that our investor set the focus on. Determining the right neighborhood is our goal and we will use Machine Learning algorithm to cluster the neighborhoods and make a recommendation to the investor as a solution to this problem. \n"
   ]
  },
  {
   "cell_type": "markdown",
   "metadata": {},
   "source": [
    "## Part 2: Data We Need\n",
    "### 1- We will need geo-locational information about that specific borough (Leuven city) and the neighborhoods in that city. We specifically and technically mean the latitude and longitude numbers of Leuven. The investor would like to make the investment of food warehouse in Leuven but which neighborhood is not decided. The Postal Codes of Leuven  (3000,3001,3010,3012,3018) that provides us necessary information to find which neighborhoods (3000 Leuven Center(Old City), 3001 Heverlee, 3010 Kessel-Lo, 3012 Wilsele and 3018 Wijgmaal) are our candidates for the location of warehouse. In this sense, we will get the data including postal codes and names of neighborhoods in Leuven. Then we can get location information of these 5 neighborhoods to use in the further step.\n",
    "\n",
    "### 2- In the second part of our solution we will need data about different venues in the different neighborhoods of city Leuven. \"Foursquare\" application will provide us  the locational information of the venues that we needed. By locational information of center of each neighborhood and by inputting a self-determined distance from this center we can get detailed information about the venues stand inside the circular interest area we have described. For each venue, we can gather information including its specific location info (latitude, longitude), category and popularity of the venue. \n",
    "### 3- After gathering and merging necessary information we will do clustering to see the similarities and differences of the neighborhoods. Then we will count and sum the number of food product customers per neighborhood to decide which neighborhood is potentially a better choice for investment."
   ]
  },
  {
   "cell_type": "markdown",
   "metadata": {},
   "source": [
    "## ----------------------------------------------------------------\n",
    "### Levent BINGOL - levobelgium@gmail.com\n",
    "## ----------------------------------------------------------------\n"
   ]
  },
  {
   "cell_type": "code",
   "execution_count": null,
   "metadata": {},
   "outputs": [],
   "source": []
  }
 ],
 "metadata": {
  "kernelspec": {
   "display_name": "Python 3",
   "language": "python",
   "name": "python3"
  },
  "language_info": {
   "codemirror_mode": {
    "name": "ipython",
    "version": 3
   },
   "file_extension": ".py",
   "mimetype": "text/x-python",
   "name": "python",
   "nbconvert_exporter": "python",
   "pygments_lexer": "ipython3",
   "version": "3.6.8"
  }
 },
 "nbformat": 4,
 "nbformat_minor": 2
}
