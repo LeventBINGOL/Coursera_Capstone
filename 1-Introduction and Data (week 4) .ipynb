{
 "cells": [
  {
   "cell_type": "markdown",
   "metadata": {},
   "source": [
    "# A new Food Warehouse in Leuven (Business Recommendation) (Week 4)"
   ]
  },
  {
   "cell_type": "markdown",
   "metadata": {},
   "source": [
    "<img src = \"https://www.mvovlaanderen.be/sites/default/files/styles/mvo_big/public/media/Leuven-by-night.jpeg?itok=j5q5yl8Z\" width = *00> </a>"
   ]
  },
  {
   "cell_type": "markdown",
   "metadata": {},
   "source": [
    "#########################################################################################################\n",
    "## Table of Contents\n",
    "\n",
    "<div class=\"alert alert-block alert-info\" style=\"margin-top: 20px\">\n",
    "\n",
    "<font size = 3>\n",
    "\n",
    "  ##1-INTRODUCTION: BUSINESS PROBLEM##\n",
    "    \n",
    " <a href=\"#item1\"> Problem Description</a>\n",
    "\n",
    "  ##2-DATA##\n",
    "    \n",
    " <a href=\"#item1\"> Data We Need</a>\n",
    "    \n",
    " <a href=\"#item2\"> Gathering Neighborhoods and Postal Codes </a>\n",
    "\n",
    " <a href=\"#item3\">Gathering Locations Data</a>\n",
    "\n",
    " <a href=\"#item4\">Gathering Foursquare Data</a>\n",
    "\n",
    "  \n",
    "    \n",
    "</font>\n",
    "</div>\n",
    "\n",
    "################################################################################################################"
   ]
  },
  {
   "cell_type": "markdown",
   "metadata": {},
   "source": [
    "### 1-INTRODUCTION: BUSINESS PROBLEM\n",
    "    \n",
    " <a href=\"#item1\"> Problem Description</a>\n",
    " #############################################################################################################\n",
    "   Leuven is the capital of the province of Flemish Brabant in Belgium. It is located about 25 kilometres east of Brussels. The municipality itself comprises the historic city and the former neighbouring municipalities of Heverlee, Kessel-Lo, Wilsele and Wijgmaal. It is the eighth largest city in Belgium and the fourth in Flanders with more than 100,244 inhabitants (Federal Ministry of Home Affairs, 1/11/2016).\n",
    "\n",
    "  Leuven is home to the KU Leuven, the largest and oldest university of the Low Countries and the oldest Catholic university still in existence. The related university hospital of UZ Leuven is one of the largest hospitals in Europe. The city is also known for being the headquarters of Anheuser-Busch InBev, the world's largest brewer and one of the five largest consumer-goods companies in the world.\n",
    " \n",
    "  With  the knowledge of above mentioned issues over Leuven, an investor in food sector would like to build up a new supermarket/food warehouse in Leuven (Belgium). The investor would like to deliver fresh and high-quality food products to places as Restaurants, Fast Food Stores, Bakeries, Breakfast Venues, Breweries and Cafés. The investor aims to build a food warehouse for the groceries and products bought from local villagers and farmers, in this sense he also would like to get local acceptance and support of people that will also provide more and satisfied customers. Customer satisfaction and Service quality is always main stones in the philosophy of the company.\n",
    "\n",
    "  In order to get a prestigious name in the sector and more profit in terms of money and time, he targets with quick and effective response to the customers; so the location of the food warehouse in an optimum place has utmost importance that will provide easy and timely delivery of products from local farmers and deliver to the related customers (venues) in the city.\n",
    "\n",
    "  The investor would also like to minimize transportation cost by building the warehouse in a close and optimized location to its customers. There are several (5) neighborhoods (Leuven Center, Heverlee, Kessel-Lo, Wilsele and Wijgmaal) in city Leuven that our investor set the focus on. Determining the right neighborhood is our goal and we will use Machine Learning algorithm to cluster the neighborhoods and make a recommendation to the investor as a solution to this problem. \n",
    "  \n",
    " ##############################################################################################################"
   ]
  },
  {
   "cell_type": "markdown",
   "metadata": {},
   "source": [
    "### 2-DATA ##\n",
    "    \n",
    " <a href=\"#item1\"> Data We Need</a>\n",
    " \n",
    "################################################################################################################\n",
    "    \n",
    "  We will need geo-locational information about that specific borough (Leuven city) and the neighborhoods in that city. We specifically and technically mean the latitude and longitude numbers of Leuven. The investor would like to make the investment of food warehouse in Leuven but which neighborhood is not decided. The Postal Codes of Leuven  (3000,3001,3010,3012,3018) that provides us necessary information to find which neighborhoods (3000 Leuven Center(Old City), 3001 Heverlee, 3010 Kessel-Lo, 3012 Wilsele and 3018 Wijgmaal) are our candidates for the location of warehouse. In this sense, we will get the data including postal codes and names of neighborhoods in Leuven. Then we can get location information of these 5 neighborhoods to use in the further step. As an example we will have finally for each neighborhood:\n",
    "   \n",
    "   #### PostalCode/\tBorough/\t Neighborhood/\tLatitude/\tLongitude/\n",
    "   \n",
    "   #### 3001/\t   Leuven/  \t Heverlee/  \t50.851729/\t4.693131/\n",
    "\n",
    "   In the second part of our solution we will need data about different venues in the different neighborhoods of city Leuven. \"Foursquare\" application will provide us  the locational information of the venues that we needed. By locational information of center of each neighborhood and by inputting a self-determined distance from this center we can get detailed information about the venues stand inside the circular interest area we have described. For each venue, we can gather information including its specific location info (latitude, longitude), category and popularity of the venue. \n",
    "\n",
    "   After gathering and merging necessary information we will do clustering to see the similarities and differences of the neighborhoods. Then we will count and sum the number of food product customers per neighborhood to decide which neighborhood is potentially a better choice for investment.  \n",
    "   \n",
    "   Foursquare will provide us data  such as the following information:\n",
    "\n",
    "#### Neighborhood/\tNeighborhood Latitude/\tNeighborhood Longitude/\tVenue/\tVenue Latitude/\tVenue Longitude/\tVenue Distance/\tVenue Summary/\tVenue Category/\n",
    "#### Wijgmaal\t50.926428/\t4.700121/\tHalte Waterstraat/\t50.922755/\t4.691789/\t713/\tThis spot is popular/\tBus Stop/\n",
    "   \n",
    "################################################################################################################"
   ]
  },
  {
   "cell_type": "markdown",
   "metadata": {},
   "source": [
    "<a href=\"#item1\"> Gathering Neighborhoods and Postal code Data </a>\n",
    "#################################################################################################################\n",
    "#### Import necessary libraries for the project\n",
    "Before we get the data and start exploring it, let's download all the dependencies that we will need.\n",
    "In this project especially we will use necessary Libraries such as BeautifulSoup and requests for Web Scraping."
   ]
  },
  {
   "cell_type": "code",
   "execution_count": 4,
   "metadata": {},
   "outputs": [
    {
     "name": "stdout",
     "output_type": "stream",
     "text": [
      "Libraries are imported.\n"
     ]
    }
   ],
   "source": [
    "# importing libraries\n",
    "import numpy as np # library to handle data in a vectorized manner\n",
    "import pandas as pd # library for data analsysis\n",
    "from bs4 import BeautifulSoup\n",
    "import requests # library to handle requests\n",
    "import json # library to handle JSON files\n",
    "from pandas.io.json import json_normalize # tranform JSON file into a pandas dataframe\n",
    "\n",
    "pd.set_option('display.max_columns', None)\n",
    "pd.set_option('display.max_rows', None)\n",
    "\n",
    "# !conda install -c conda-forge geopy --yes # uncomment this line if you haven't completed the Foursquare API lab\n",
    "import geopy.geocoders # convert an address into latitude and longitude values\n",
    "\n",
    "\n",
    "#!conda install -c conda-forge geopy --yes # uncomment this line if you haven't completed the Foursquare API lab\n",
    "from geopy.geocoders import Nominatim # convert an address into latitude and longitude values\n",
    "\n",
    "# !conda install -c conda-forge folium=0.5.0 --yes # uncomment this line if you haven't completed the Foursquare API lab\n",
    "import folium # map rendering library\n",
    "\n",
    "\n",
    "# Matplotlib and associated plotting modules\n",
    "import matplotlib.cm as cm\n",
    "import matplotlib.colors as colors\n",
    "\n",
    "# import k-means from clustering stage\n",
    "from sklearn.cluster import KMeans\n",
    "\n",
    "print('Libraries are imported.')"
   ]
  },
  {
   "cell_type": "markdown",
   "metadata": {},
   "source": [
    "####  Webscrape the Data from web page into Dataframe \n",
    "I have three different methods two scrape the data as shown below.We can use one of the following methods to get the necessary html file and data from the Vlaanderen.be page.\n",
    "\n",
    "    a. Pandas method \n",
    "    b. BeautifulSoup method\n"
   ]
  },
  {
   "cell_type": "code",
   "execution_count": 9,
   "metadata": {},
   "outputs": [
    {
     "data": {
      "text/html": [
       "<div>\n",
       "<style scoped>\n",
       "    .dataframe tbody tr th:only-of-type {\n",
       "        vertical-align: middle;\n",
       "    }\n",
       "\n",
       "    .dataframe tbody tr th {\n",
       "        vertical-align: top;\n",
       "    }\n",
       "\n",
       "    .dataframe thead th {\n",
       "        text-align: right;\n",
       "    }\n",
       "</style>\n",
       "<table border=\"1\" class=\"dataframe\">\n",
       "  <thead>\n",
       "    <tr style=\"text-align: right;\">\n",
       "      <th></th>\n",
       "      <th>0</th>\n",
       "      <th>1</th>\n",
       "    </tr>\n",
       "  </thead>\n",
       "  <tbody>\n",
       "    <tr>\n",
       "      <th>0</th>\n",
       "      <td>Postcode(s)</td>\n",
       "      <td>3000, 3001, 3010, 3012, 3018</td>\n",
       "    </tr>\n",
       "    <tr>\n",
       "      <th>1</th>\n",
       "      <td>Deelgemeenten</td>\n",
       "      <td>Leuven, Heverlee, Kessel-Lo, Wilsele, Wijgmaal</td>\n",
       "    </tr>\n",
       "  </tbody>\n",
       "</table>\n",
       "</div>"
      ],
      "text/plain": [
       "               0                                               1\n",
       "0    Postcode(s)                    3000, 3001, 3010, 3012, 3018\n",
       "1  Deelgemeenten  Leuven, Heverlee, Kessel-Lo, Wilsele, Wijgmaal"
      ]
     },
     "execution_count": 9,
     "metadata": {},
     "output_type": "execute_result"
    }
   ],
   "source": [
    "# Pandas method: to get the postal code and neighborhood data\n",
    "\n",
    "url=\"https://www.vlaanderen.be/gemeenten-en-provincies/provincie-vlaams-brabant/leuven\"\n",
    "LeuvenSource = requests.get(url).text\n",
    "\n",
    "tables = pd.read_html(LeuvenSource)\n",
    "# result of first method \n",
    "df=pd.DataFrame(tables[0])\n",
    "df\n",
    "#LeuvenSource"
   ]
  },
  {
   "cell_type": "code",
   "execution_count": 10,
   "metadata": {},
   "outputs": [
    {
     "data": {
      "text/html": [
       "<div>\n",
       "<style scoped>\n",
       "    .dataframe tbody tr th:only-of-type {\n",
       "        vertical-align: middle;\n",
       "    }\n",
       "\n",
       "    .dataframe tbody tr th {\n",
       "        vertical-align: top;\n",
       "    }\n",
       "\n",
       "    .dataframe thead th {\n",
       "        text-align: right;\n",
       "    }\n",
       "</style>\n",
       "<table border=\"1\" class=\"dataframe\">\n",
       "  <thead>\n",
       "    <tr style=\"text-align: right;\">\n",
       "      <th></th>\n",
       "      <th>0</th>\n",
       "      <th>1</th>\n",
       "      <th>2</th>\n",
       "      <th>3</th>\n",
       "      <th>4</th>\n",
       "    </tr>\n",
       "  </thead>\n",
       "  <tbody>\n",
       "    <tr>\n",
       "      <th>0</th>\n",
       "      <td>3000</td>\n",
       "      <td>3001</td>\n",
       "      <td>3010</td>\n",
       "      <td>3012</td>\n",
       "      <td>3018</td>\n",
       "    </tr>\n",
       "    <tr>\n",
       "      <th>1</th>\n",
       "      <td>Leuven</td>\n",
       "      <td>Heverlee</td>\n",
       "      <td>Kessel-Lo</td>\n",
       "      <td>Wilsele</td>\n",
       "      <td>Wijgmaal</td>\n",
       "    </tr>\n",
       "  </tbody>\n",
       "</table>\n",
       "</div>"
      ],
      "text/plain": [
       "        0          1           2         3          4\n",
       "0    3000       3001        3010      3012       3018\n",
       "1  Leuven   Heverlee   Kessel-Lo   Wilsele   Wijgmaal"
      ]
     },
     "execution_count": 10,
     "metadata": {},
     "output_type": "execute_result"
    }
   ],
   "source": [
    "# split the neighborhoods and post codes into fields\n",
    "df = pd.DataFrame(df, columns=[1])\n",
    "df= df[1].apply(lambda x : pd.Series(x.split(','))).head()\n",
    "df"
   ]
  },
  {
   "cell_type": "code",
   "execution_count": 11,
   "metadata": {},
   "outputs": [],
   "source": [
    "#pre-processing the data frame\n",
    "neighborhoods=df.transpose()\n",
    "neighborhoods[2]=neighborhoods[1]\n",
    "#we know that borough is Leuven city so we set it into the table\n",
    "neighborhoods[1]=['Leuven','Leuven','Leuven','Leuven','Leuven']\n",
    "neighborhoods.columns = ['PostalCode','Borough', 'Neighborhood'] "
   ]
  },
  {
   "cell_type": "code",
   "execution_count": 12,
   "metadata": {},
   "outputs": [
    {
     "data": {
      "text/html": [
       "<div>\n",
       "<style scoped>\n",
       "    .dataframe tbody tr th:only-of-type {\n",
       "        vertical-align: middle;\n",
       "    }\n",
       "\n",
       "    .dataframe tbody tr th {\n",
       "        vertical-align: top;\n",
       "    }\n",
       "\n",
       "    .dataframe thead th {\n",
       "        text-align: right;\n",
       "    }\n",
       "</style>\n",
       "<table border=\"1\" class=\"dataframe\">\n",
       "  <thead>\n",
       "    <tr style=\"text-align: right;\">\n",
       "      <th></th>\n",
       "      <th>PostalCode</th>\n",
       "      <th>Borough</th>\n",
       "      <th>Neighborhood</th>\n",
       "    </tr>\n",
       "  </thead>\n",
       "  <tbody>\n",
       "    <tr>\n",
       "      <th>0</th>\n",
       "      <td>3000</td>\n",
       "      <td>Leuven</td>\n",
       "      <td>Leuven</td>\n",
       "    </tr>\n",
       "    <tr>\n",
       "      <th>1</th>\n",
       "      <td>3001</td>\n",
       "      <td>Leuven</td>\n",
       "      <td>Heverlee</td>\n",
       "    </tr>\n",
       "    <tr>\n",
       "      <th>2</th>\n",
       "      <td>3010</td>\n",
       "      <td>Leuven</td>\n",
       "      <td>Kessel-Lo</td>\n",
       "    </tr>\n",
       "    <tr>\n",
       "      <th>3</th>\n",
       "      <td>3012</td>\n",
       "      <td>Leuven</td>\n",
       "      <td>Wilsele</td>\n",
       "    </tr>\n",
       "    <tr>\n",
       "      <th>4</th>\n",
       "      <td>3018</td>\n",
       "      <td>Leuven</td>\n",
       "      <td>Wijgmaal</td>\n",
       "    </tr>\n",
       "  </tbody>\n",
       "</table>\n",
       "</div>"
      ],
      "text/plain": [
       "  PostalCode Borough Neighborhood\n",
       "0       3000  Leuven       Leuven\n",
       "1       3001  Leuven     Heverlee\n",
       "2       3010  Leuven    Kessel-Lo\n",
       "3       3012  Leuven      Wilsele\n",
       "4       3018  Leuven     Wijgmaal"
      ]
     },
     "execution_count": 12,
     "metadata": {},
     "output_type": "execute_result"
    }
   ],
   "source": [
    "neighborhoods"
   ]
  },
  {
   "cell_type": "code",
   "execution_count": 13,
   "metadata": {},
   "outputs": [
    {
     "name": "stdout",
     "output_type": "stream",
     "text": [
      "Data downloaded!\n"
     ]
    }
   ],
   "source": [
    "# b. BeautifulSoup method: to get data from the HTML file \n",
    "\n",
    "# We can downlad the web page as html file and then convert to file into lxml file for parsing. \n",
    "# We can do this step by using !wget method or requests library (get method) then use BeautifulSoup capabilities.\n",
    "# We can also get the html info in two alternatives also.Then scraped data into lxml file with Beautifulsoup\n",
    "\n",
    "#to get the HTML file !wget method\n",
    "\n",
    "!wget -q -O 'Leuvenpost.html' https://www.vlaanderen.be/gemeenten-en-provincies/provincie-vlaams-brabant/leuven\n",
    "print('Data downloaded!')\n",
    "with open('Leuvenpost.html') as can_html_file:\n",
    "    soup=BeautifulSoup(can_html_file,'lxml')\n",
    "    \n",
    "#to get the HTML file second request method\n",
    "\n",
    "LeuvenSource2= requests.get(\"https://www.vlaanderen.be/gemeenten-en-provincies/provincie-vlaams-brabant/leuven\").text\n",
    "soup=BeautifulSoup(LeuvenSource2,'lxml')\n",
    "#soup"
   ]
  },
  {
   "cell_type": "markdown",
   "metadata": {},
   "source": [
    "Now, with the following code we scrape the table data in the html file into tableLeuven element by using BeautifulSoup. In the following steps we will turn this information into pandas data frame. You can prettify the information and examine to see the hierarchy in the data."
   ]
  },
  {
   "cell_type": "code",
   "execution_count": 14,
   "metadata": {},
   "outputs": [
    {
     "name": "stdout",
     "output_type": "stream",
     "text": [
      "<table class=\"data-table data-table--no-header\">\n",
      " <tbody>\n",
      "  <tr>\n",
      "   <td class=\"data-table__body-title\">\n",
      "    Postcode(s)\n",
      "   </td>\n",
      "   <td>\n",
      "    3000, 3001, 3010, 3012, 3018\n",
      "   </td>\n",
      "  </tr>\n",
      "  <tr>\n",
      "   <td class=\"data-table__body-title\">\n",
      "    Deelgemeenten\n",
      "   </td>\n",
      "   <td>\n",
      "    Leuven, Heverlee, Kessel-Lo, Wilsele, Wijgmaal\n",
      "   </td>\n",
      "  </tr>\n",
      " </tbody>\n",
      "</table>\n"
     ]
    }
   ],
   "source": [
    "tableLeuven=soup.find('table')\n",
    "print(tableLeuven.prettify())"
   ]
  },
  {
   "cell_type": "markdown",
   "metadata": {},
   "source": [
    "When we examine the tableLeuven data we will see that the necessary information stays between <td> parts. And each is in order with groups of postalcode, borough and neighborhood following each other. To get the data easier out from html element we will use fin_all method of Beautifulsoup library."
   ]
  },
  {
   "cell_type": "code",
   "execution_count": 15,
   "metadata": {},
   "outputs": [
    {
     "data": {
      "text/plain": [
       "[<td class=\"data-table__body-title\">Postcode(s)</td>,\n",
       " <td>3000, 3001, 3010, 3012, 3018</td>,\n",
       " <td class=\"data-table__body-title\">Deelgemeenten</td>,\n",
       " <td>Leuven, Heverlee, Kessel-Lo, Wilsele, Wijgmaal</td>]"
      ]
     },
     "execution_count": 15,
     "metadata": {},
     "output_type": "execute_result"
    }
   ],
   "source": [
    "#Table content in a list. the order in three groups is such as postalcode,borough and neighborhood\n",
    "tableContent=tableLeuven.find_all ('td')\n",
    "tableContent[0:9]"
   ]
  },
  {
   "cell_type": "markdown",
   "metadata": {},
   "source": [
    "Now we have a list and with the following codes we can exploer the data inside the list. Then we learn how to get the postcode and neighborhood information. Borough is Leuven City.\n",
    "Then we get ready to scrape the data into a dataframe. So lets define the columns of our neighborhoods data frame that place the Leuven postal code and neighborhood information."
   ]
  },
  {
   "cell_type": "code",
   "execution_count": 16,
   "metadata": {},
   "outputs": [
    {
     "data": {
      "text/html": [
       "<div>\n",
       "<style scoped>\n",
       "    .dataframe tbody tr th:only-of-type {\n",
       "        vertical-align: middle;\n",
       "    }\n",
       "\n",
       "    .dataframe tbody tr th {\n",
       "        vertical-align: top;\n",
       "    }\n",
       "\n",
       "    .dataframe thead th {\n",
       "        text-align: right;\n",
       "    }\n",
       "</style>\n",
       "<table border=\"1\" class=\"dataframe\">\n",
       "  <thead>\n",
       "    <tr style=\"text-align: right;\">\n",
       "      <th></th>\n",
       "      <th>PostalCode</th>\n",
       "      <th>Borough</th>\n",
       "      <th>Neighborhood</th>\n",
       "    </tr>\n",
       "  </thead>\n",
       "  <tbody>\n",
       "  </tbody>\n",
       "</table>\n",
       "</div>"
      ],
      "text/plain": [
       "Empty DataFrame\n",
       "Columns: [PostalCode, Borough, Neighborhood]\n",
       "Index: []"
      ]
     },
     "execution_count": 16,
     "metadata": {},
     "output_type": "execute_result"
    }
   ],
   "source": [
    "# define the dataframe columns\n",
    "column_names = ['PostalCode','Borough', 'Neighborhood'] \n",
    "\n",
    "# instantiate the dataframe\n",
    "neighborhoods2= pd.DataFrame(columns=column_names)\n",
    "neighborhoods2"
   ]
  },
  {
   "cell_type": "code",
   "execution_count": 17,
   "metadata": {},
   "outputs": [],
   "source": [
    "#preprocess and split data into proper format\n",
    "\n",
    "a=tableContent[1].text.split(',')\n",
    "b=tableContent[3].text.split(',')\n",
    "neighborhoods2['PostalCode']=a\n",
    "neighborhoods2['Neighborhood']=b\n",
    "#we know that borough is Leuven city so we set it into the table\n",
    "neighborhoods2['Borough']=['Leuven','Leuven','Leuven','Leuven','Leuven']"
   ]
  },
  {
   "cell_type": "code",
   "execution_count": 18,
   "metadata": {},
   "outputs": [
    {
     "data": {
      "text/html": [
       "<div>\n",
       "<style scoped>\n",
       "    .dataframe tbody tr th:only-of-type {\n",
       "        vertical-align: middle;\n",
       "    }\n",
       "\n",
       "    .dataframe tbody tr th {\n",
       "        vertical-align: top;\n",
       "    }\n",
       "\n",
       "    .dataframe thead th {\n",
       "        text-align: right;\n",
       "    }\n",
       "</style>\n",
       "<table border=\"1\" class=\"dataframe\">\n",
       "  <thead>\n",
       "    <tr style=\"text-align: right;\">\n",
       "      <th></th>\n",
       "      <th>PostalCode</th>\n",
       "      <th>Borough</th>\n",
       "      <th>Neighborhood</th>\n",
       "    </tr>\n",
       "  </thead>\n",
       "  <tbody>\n",
       "    <tr>\n",
       "      <th>0</th>\n",
       "      <td>3000</td>\n",
       "      <td>Leuven</td>\n",
       "      <td>Leuven</td>\n",
       "    </tr>\n",
       "    <tr>\n",
       "      <th>1</th>\n",
       "      <td>3001</td>\n",
       "      <td>Leuven</td>\n",
       "      <td>Heverlee</td>\n",
       "    </tr>\n",
       "    <tr>\n",
       "      <th>2</th>\n",
       "      <td>3010</td>\n",
       "      <td>Leuven</td>\n",
       "      <td>Kessel-Lo</td>\n",
       "    </tr>\n",
       "    <tr>\n",
       "      <th>3</th>\n",
       "      <td>3012</td>\n",
       "      <td>Leuven</td>\n",
       "      <td>Wilsele</td>\n",
       "    </tr>\n",
       "    <tr>\n",
       "      <th>4</th>\n",
       "      <td>3018</td>\n",
       "      <td>Leuven</td>\n",
       "      <td>Wijgmaal</td>\n",
       "    </tr>\n",
       "  </tbody>\n",
       "</table>\n",
       "</div>"
      ],
      "text/plain": [
       "  PostalCode Borough Neighborhood\n",
       "0       3000  Leuven       Leuven\n",
       "1       3001  Leuven     Heverlee\n",
       "2       3010  Leuven    Kessel-Lo\n",
       "3       3012  Leuven      Wilsele\n",
       "4       3018  Leuven     Wijgmaal"
      ]
     },
     "execution_count": 18,
     "metadata": {},
     "output_type": "execute_result"
    }
   ],
   "source": [
    "neighborhoods2"
   ]
  },
  {
   "cell_type": "markdown",
   "metadata": {},
   "source": [
    "We have the same table as in pandas method. Our dataframe now consists of three columns: PostalCode, Borough, and Neighborhood.We now only process the cells that have an assigned borough. \n",
    "We will save the dataframe into csv file.\n"
   ]
  },
  {
   "cell_type": "code",
   "execution_count": 19,
   "metadata": {},
   "outputs": [],
   "source": [
    "#save the data into csv file\n",
    "LeuvenDF=neighborhoods\n",
    "LeuvenDF.to_csv('LeuvenDFpart1.csv', encoding='utf-8', index=False)"
   ]
  },
  {
   "cell_type": "code",
   "execution_count": 20,
   "metadata": {},
   "outputs": [],
   "source": [
    "import json\n",
    "LeuvenDF.to_json('LeuvenDFpart1.json')"
   ]
  },
  {
   "cell_type": "markdown",
   "metadata": {},
   "source": [
    "##############################################################################################################"
   ]
  },
  {
   "cell_type": "markdown",
   "metadata": {},
   "source": [
    "\n",
    " <a href=\"#item2\">Gathering Locations Data</a>\n",
    "#################################################################################################################"
   ]
  },
  {
   "cell_type": "markdown",
   "metadata": {},
   "source": [
    "Now that you have built a dataframe of the postal code of each neighborhood along with the borough name and neighborhood name, in order to utilize the Foursquare location data, we need to get the latitude and the longitude coordinates of each neighborhood.\n",
    "There are several alternatives\n",
    "\n",
    "#### Google Maps Geocoding API (not free)\n",
    "In an older version of this course, we were leveraging the Google Maps Geocoding API to get the latitude and the longitude coordinates of each neighborhood. However, recently Google started charging for their API: http://geoawesomeness.com/developers-up-in-arms-over-google-maps-api-insane-price-hike/.\n",
    "\n",
    "#### Geocoder Python package \n",
    " \n",
    " we can use the link : https://geocoder.readthedocs.io/index.html.\n",
    "The problem with this Package is you have to be persistent sometimes in order to get the geographical coordinates of a given postal code. So you can make a call to get the latitude and longitude coordinates of a given postal code and the result would be None, and then make the call again and you would get the coordinates. So, in order to make sure that you get the coordinates for all of our neighborhoods, you can run a while loop for each postal code. Taking postal code M5G as an example, your code would look something like this:\n",
    "\n",
    "#### csv file download\n",
    "\n",
    "Given that Geocodor package can be very unreliable, in case you are not able to get the geographical coordinates of the neighborhoods using the Geocoder package, here is a link to a json and a csv file that has the geographical coordinates of each postal code: \n",
    "https://github.com/jief/zipcode-belgium/blob/master/zipcode-belgium.json\n",
    "\n",
    "https://github.com/jief/zipcode-belgium/blob/master/zipcode-belgium.csv\n",
    "\n",
    "We will Use the Geocoder package or the csv file to create the following dataframe:"
   ]
  },
  {
   "cell_type": "code",
   "execution_count": 47,
   "metadata": {},
   "outputs": [
    {
     "name": "stdout",
     "output_type": "stream",
     "text": [
      "Collecting geocoder\n",
      "\u001b[?25l  Downloading https://files.pythonhosted.org/packages/4f/6b/13166c909ad2f2d76b929a4227c952630ebaf0d729f6317eb09cbceccbab/geocoder-1.38.1-py2.py3-none-any.whl (98kB)\n",
      "\u001b[K    100% |████████████████████████████████| 102kB 18.4MB/s \n",
      "\u001b[?25hRequirement already satisfied: click in /home/jupyterlab/conda/lib/python3.6/site-packages (from geocoder) (7.0)\n",
      "Requirement already satisfied: requests in /home/jupyterlab/conda/lib/python3.6/site-packages (from geocoder) (2.21.0)\n",
      "Collecting ratelim (from geocoder)\n",
      "  Downloading https://files.pythonhosted.org/packages/f2/98/7e6d147fd16a10a5f821db6e25f192265d6ecca3d82957a4fdd592cad49c/ratelim-0.1.6-py2.py3-none-any.whl\n",
      "Requirement already satisfied: future in /home/jupyterlab/conda/lib/python3.6/site-packages (from geocoder) (0.17.1)\n",
      "Requirement already satisfied: six in /home/jupyterlab/conda/lib/python3.6/site-packages (from geocoder) (1.12.0)\n",
      "Requirement already satisfied: chardet<3.1.0,>=3.0.2 in /home/jupyterlab/conda/lib/python3.6/site-packages (from requests->geocoder) (3.0.4)\n",
      "Requirement already satisfied: certifi>=2017.4.17 in /home/jupyterlab/conda/lib/python3.6/site-packages (from requests->geocoder) (2018.11.29)\n",
      "Requirement already satisfied: urllib3<1.25,>=1.21.1 in /home/jupyterlab/conda/lib/python3.6/site-packages (from requests->geocoder) (1.24.1)\n",
      "Requirement already satisfied: idna<2.9,>=2.5 in /home/jupyterlab/conda/lib/python3.6/site-packages (from requests->geocoder) (2.8)\n",
      "Requirement already satisfied: decorator in /home/jupyterlab/conda/lib/python3.6/site-packages (from ratelim->geocoder) (4.3.2)\n",
      "Installing collected packages: ratelim, geocoder\n",
      "Successfully installed geocoder-1.38.1 ratelim-0.1.6\n"
     ]
    }
   ],
   "source": [
    "#Geocodor Python package\n",
    "!pip install geocoder\n",
    "import geocoder # import geocoder"
   ]
  },
  {
   "cell_type": "markdown",
   "metadata": {},
   "source": [
    "#### geocodor method to get location data"
   ]
  },
  {
   "cell_type": "code",
   "execution_count": null,
   "metadata": {},
   "outputs": [],
   "source": [
    "# Geocodor method: to get the locations first method\n",
    "\n",
    "# firstly define the postal code\n",
    "postalcode=LeuvenDF[\"PostalCode\"]\n",
    "\n",
    "latitude = []\n",
    "longitude = []\n",
    "for elem in postalcode:\n",
    "# initialize your variable to None\n",
    "    lat_lng_coords = None\n",
    "\n",
    "# loop until you get the coordinates\n",
    "    while (lat_lng_coords is None):\n",
    "        g = geocoder.google('{}, Leuven, Belgium'.format(elem))\n",
    "        lat_lng_coords = g.latlng\n",
    "        # print(lat_lng_coords)\n",
    "\n",
    "    latitude.append(lat_lng_coords[0])\n",
    "    longitude.append(lat_lng_coords[1])\n",
    "    print(elem, 'is RECEIVED.')\n",
    "    # print(lat_lng_coords[0])\n",
    "    # print(lat_lng_coords[1])\n",
    "    "
   ]
  },
  {
   "cell_type": "code",
   "execution_count": 20,
   "metadata": {},
   "outputs": [
    {
     "data": {
      "text/html": [
       "<div>\n",
       "<style scoped>\n",
       "    .dataframe tbody tr th:only-of-type {\n",
       "        vertical-align: middle;\n",
       "    }\n",
       "\n",
       "    .dataframe tbody tr th {\n",
       "        vertical-align: top;\n",
       "    }\n",
       "\n",
       "    .dataframe thead th {\n",
       "        text-align: right;\n",
       "    }\n",
       "</style>\n",
       "<table border=\"1\" class=\"dataframe\">\n",
       "  <thead>\n",
       "    <tr style=\"text-align: right;\">\n",
       "      <th></th>\n",
       "      <th>PostalCode</th>\n",
       "      <th>Borough</th>\n",
       "      <th>Neighborhood</th>\n",
       "    </tr>\n",
       "  </thead>\n",
       "  <tbody>\n",
       "    <tr>\n",
       "      <th>0</th>\n",
       "      <td>3000</td>\n",
       "      <td>Leuven</td>\n",
       "      <td>Leuven</td>\n",
       "    </tr>\n",
       "    <tr>\n",
       "      <th>1</th>\n",
       "      <td>3001</td>\n",
       "      <td>Leuven</td>\n",
       "      <td>Heverlee</td>\n",
       "    </tr>\n",
       "    <tr>\n",
       "      <th>2</th>\n",
       "      <td>3010</td>\n",
       "      <td>Leuven</td>\n",
       "      <td>Kessel-Lo</td>\n",
       "    </tr>\n",
       "    <tr>\n",
       "      <th>3</th>\n",
       "      <td>3012</td>\n",
       "      <td>Leuven</td>\n",
       "      <td>Wilsele</td>\n",
       "    </tr>\n",
       "    <tr>\n",
       "      <th>4</th>\n",
       "      <td>3018</td>\n",
       "      <td>Leuven</td>\n",
       "      <td>Wijgmaal</td>\n",
       "    </tr>\n",
       "  </tbody>\n",
       "</table>\n",
       "</div>"
      ],
      "text/plain": [
       "  PostalCode Borough Neighborhood\n",
       "0       3000  Leuven       Leuven\n",
       "1       3001  Leuven     Heverlee\n",
       "2       3010  Leuven    Kessel-Lo\n",
       "3       3012  Leuven      Wilsele\n",
       "4       3018  Leuven     Wijgmaal"
      ]
     },
     "execution_count": 20,
     "metadata": {},
     "output_type": "execute_result"
    }
   ],
   "source": [
    "#add the locations to Leuven DF1\n",
    "LeuvenDF1= LeuvenDF\n",
    "LeuvenDF1[['Latitude']]=latitude\n",
    "LeuvenDF1[['Longtitude']]=longtitude\n",
    "LeuvenDF1"
   ]
  },
  {
   "cell_type": "markdown",
   "metadata": {},
   "source": [
    " #### Since geocodor method may take long time download from other web sources ready data"
   ]
  },
  {
   "cell_type": "code",
   "execution_count": 21,
   "metadata": {},
   "outputs": [
    {
     "data": {
      "text/html": [
       "<div>\n",
       "<style scoped>\n",
       "    .dataframe tbody tr th:only-of-type {\n",
       "        vertical-align: middle;\n",
       "    }\n",
       "\n",
       "    .dataframe tbody tr th {\n",
       "        vertical-align: top;\n",
       "    }\n",
       "\n",
       "    .dataframe thead th {\n",
       "        text-align: right;\n",
       "    }\n",
       "</style>\n",
       "<table border=\"1\" class=\"dataframe\">\n",
       "  <thead>\n",
       "    <tr style=\"text-align: right;\">\n",
       "      <th></th>\n",
       "      <th>0</th>\n",
       "      <th>1</th>\n",
       "      <th>2</th>\n",
       "      <th>3</th>\n",
       "    </tr>\n",
       "  </thead>\n",
       "  <tbody>\n",
       "    <tr>\n",
       "      <th>0</th>\n",
       "      <td>1000</td>\n",
       "      <td>Bruxelles</td>\n",
       "      <td>4.351697</td>\n",
       "      <td>50.846557</td>\n",
       "    </tr>\n",
       "    <tr>\n",
       "      <th>1</th>\n",
       "      <td>1020</td>\n",
       "      <td>Laeken</td>\n",
       "      <td>4.348713</td>\n",
       "      <td>50.883392</td>\n",
       "    </tr>\n",
       "    <tr>\n",
       "      <th>2</th>\n",
       "      <td>1030</td>\n",
       "      <td>Schaerbeek</td>\n",
       "      <td>4.373712</td>\n",
       "      <td>50.867604</td>\n",
       "    </tr>\n",
       "    <tr>\n",
       "      <th>3</th>\n",
       "      <td>1040</td>\n",
       "      <td>Etterbeek</td>\n",
       "      <td>4.389510</td>\n",
       "      <td>50.836851</td>\n",
       "    </tr>\n",
       "    <tr>\n",
       "      <th>4</th>\n",
       "      <td>1050</td>\n",
       "      <td>Ixelles</td>\n",
       "      <td>4.381571</td>\n",
       "      <td>50.822285</td>\n",
       "    </tr>\n",
       "  </tbody>\n",
       "</table>\n",
       "</div>"
      ],
      "text/plain": [
       "      0           1         2          3\n",
       "0  1000   Bruxelles  4.351697  50.846557\n",
       "1  1020      Laeken  4.348713  50.883392\n",
       "2  1030  Schaerbeek  4.373712  50.867604\n",
       "3  1040   Etterbeek  4.389510  50.836851\n",
       "4  1050     Ixelles  4.381571  50.822285"
      ]
     },
     "execution_count": 21,
     "metadata": {},
     "output_type": "execute_result"
    }
   ],
   "source": [
    "#download the data instead from a web page we have founded\n",
    "# Here is a source of all zip codes and location infos\n",
    "BelgiumLocationData = pd.read_csv(\"https://raw.githubusercontent.com/jief/zipcode-belgium/master/zipcode-belgium.csv\",header=None)\n",
    "BelgiumLocationData.head()"
   ]
  },
  {
   "cell_type": "code",
   "execution_count": 22,
   "metadata": {},
   "outputs": [
    {
     "data": {
      "text/plain": [
       "(2757, 4)"
      ]
     },
     "execution_count": 22,
     "metadata": {},
     "output_type": "execute_result"
    }
   ],
   "source": [
    "#save it to a csv file\n",
    "BelgiumLocationData.to_csv('BelgiumLocationData.csv', encoding='utf-8', index=False)\n",
    "BelgiumLocationData.columns = ['PostalCode','Neighborhood','Longitude','Latitude'] \n",
    "BelgiumLocationData.shape"
   ]
  },
  {
   "cell_type": "code",
   "execution_count": 23,
   "metadata": {},
   "outputs": [
    {
     "data": {
      "text/html": [
       "<div>\n",
       "<style scoped>\n",
       "    .dataframe tbody tr th:only-of-type {\n",
       "        vertical-align: middle;\n",
       "    }\n",
       "\n",
       "    .dataframe tbody tr th {\n",
       "        vertical-align: top;\n",
       "    }\n",
       "\n",
       "    .dataframe thead th {\n",
       "        text-align: right;\n",
       "    }\n",
       "</style>\n",
       "<table border=\"1\" class=\"dataframe\">\n",
       "  <thead>\n",
       "    <tr style=\"text-align: right;\">\n",
       "      <th></th>\n",
       "      <th>PostalCode</th>\n",
       "      <th>Neighborhood</th>\n",
       "      <th>Longitude</th>\n",
       "      <th>Latitude</th>\n",
       "    </tr>\n",
       "  </thead>\n",
       "  <tbody>\n",
       "    <tr>\n",
       "      <th>405</th>\n",
       "      <td>3000</td>\n",
       "      <td>Leuven</td>\n",
       "      <td>4.69299</td>\n",
       "      <td>50.881253</td>\n",
       "    </tr>\n",
       "  </tbody>\n",
       "</table>\n",
       "</div>"
      ],
      "text/plain": [
       "     PostalCode Neighborhood  Longitude   Latitude\n",
       "405        3000       Leuven    4.69299  50.881253"
      ]
     },
     "execution_count": 23,
     "metadata": {},
     "output_type": "execute_result"
    }
   ],
   "source": [
    "#to find the realted rows starting with Leuven area postal codes use the following codes\n",
    "BelgiumLocationData.loc[BelgiumLocationData['Neighborhood']=='Leuven']"
   ]
  },
  {
   "cell_type": "code",
   "execution_count": 24,
   "metadata": {},
   "outputs": [
    {
     "data": {
      "text/html": [
       "<div>\n",
       "<style scoped>\n",
       "    .dataframe tbody tr th:only-of-type {\n",
       "        vertical-align: middle;\n",
       "    }\n",
       "\n",
       "    .dataframe tbody tr th {\n",
       "        vertical-align: top;\n",
       "    }\n",
       "\n",
       "    .dataframe thead th {\n",
       "        text-align: right;\n",
       "    }\n",
       "</style>\n",
       "<table border=\"1\" class=\"dataframe\">\n",
       "  <thead>\n",
       "    <tr style=\"text-align: right;\">\n",
       "      <th></th>\n",
       "      <th>PostalCode</th>\n",
       "      <th>Neighborhood</th>\n",
       "      <th>Longitude</th>\n",
       "      <th>Latitude</th>\n",
       "    </tr>\n",
       "  </thead>\n",
       "  <tbody>\n",
       "    <tr>\n",
       "      <th>409</th>\n",
       "      <td>3018</td>\n",
       "      <td>Wijgmaal</td>\n",
       "      <td>4.700121</td>\n",
       "      <td>50.926428</td>\n",
       "    </tr>\n",
       "  </tbody>\n",
       "</table>\n",
       "</div>"
      ],
      "text/plain": [
       "     PostalCode Neighborhood  Longitude   Latitude\n",
       "409        3018     Wijgmaal   4.700121  50.926428"
      ]
     },
     "execution_count": 24,
     "metadata": {},
     "output_type": "execute_result"
    }
   ],
   "source": [
    "BelgiumLocationData.loc[BelgiumLocationData['Neighborhood']=='Wijgmaal']"
   ]
  },
  {
   "cell_type": "code",
   "execution_count": 25,
   "metadata": {},
   "outputs": [
    {
     "data": {
      "text/html": [
       "<div>\n",
       "<style scoped>\n",
       "    .dataframe tbody tr th:only-of-type {\n",
       "        vertical-align: middle;\n",
       "    }\n",
       "\n",
       "    .dataframe tbody tr th {\n",
       "        vertical-align: top;\n",
       "    }\n",
       "\n",
       "    .dataframe thead th {\n",
       "        text-align: right;\n",
       "    }\n",
       "</style>\n",
       "<table border=\"1\" class=\"dataframe\">\n",
       "  <thead>\n",
       "    <tr style=\"text-align: right;\">\n",
       "      <th></th>\n",
       "      <th>index</th>\n",
       "      <th>PostalCode</th>\n",
       "      <th>Neighborhood</th>\n",
       "      <th>Longitude</th>\n",
       "      <th>Latitude</th>\n",
       "    </tr>\n",
       "  </thead>\n",
       "  <tbody>\n",
       "    <tr>\n",
       "      <th>0</th>\n",
       "      <td>405</td>\n",
       "      <td>3000</td>\n",
       "      <td>Leuven</td>\n",
       "      <td>4.692990</td>\n",
       "      <td>50.881253</td>\n",
       "    </tr>\n",
       "    <tr>\n",
       "      <th>1</th>\n",
       "      <td>406</td>\n",
       "      <td>3001</td>\n",
       "      <td>Heverlee</td>\n",
       "      <td>4.693131</td>\n",
       "      <td>50.851729</td>\n",
       "    </tr>\n",
       "    <tr>\n",
       "      <th>2</th>\n",
       "      <td>407</td>\n",
       "      <td>3010</td>\n",
       "      <td>Kessel Lo</td>\n",
       "      <td>4.730761</td>\n",
       "      <td>50.889915</td>\n",
       "    </tr>\n",
       "    <tr>\n",
       "      <th>3</th>\n",
       "      <td>408</td>\n",
       "      <td>3012</td>\n",
       "      <td>Wilsele</td>\n",
       "      <td>4.713629</td>\n",
       "      <td>50.909536</td>\n",
       "    </tr>\n",
       "    <tr>\n",
       "      <th>4</th>\n",
       "      <td>409</td>\n",
       "      <td>3018</td>\n",
       "      <td>Wijgmaal</td>\n",
       "      <td>4.700121</td>\n",
       "      <td>50.926428</td>\n",
       "    </tr>\n",
       "  </tbody>\n",
       "</table>\n",
       "</div>"
      ],
      "text/plain": [
       "   index  PostalCode Neighborhood  Longitude   Latitude\n",
       "0    405        3000       Leuven   4.692990  50.881253\n",
       "1    406        3001     Heverlee   4.693131  50.851729\n",
       "2    407        3010    Kessel Lo   4.730761  50.889915\n",
       "3    408        3012      Wilsele   4.713629  50.909536\n",
       "4    409        3018     Wijgmaal   4.700121  50.926428"
      ]
     },
     "execution_count": 25,
     "metadata": {},
     "output_type": "execute_result"
    }
   ],
   "source": [
    "# set the regarding rows into another dataframe for leuven neighborhoods (the rows between 405 and 410)\n",
    "LeuvenLocationDF=BelgiumLocationData[405:410].reset_index()\n",
    "LeuvenLocationDF"
   ]
  },
  {
   "cell_type": "code",
   "execution_count": 26,
   "metadata": {},
   "outputs": [
    {
     "data": {
      "text/html": [
       "<div>\n",
       "<style scoped>\n",
       "    .dataframe tbody tr th:only-of-type {\n",
       "        vertical-align: middle;\n",
       "    }\n",
       "\n",
       "    .dataframe tbody tr th {\n",
       "        vertical-align: top;\n",
       "    }\n",
       "\n",
       "    .dataframe thead th {\n",
       "        text-align: right;\n",
       "    }\n",
       "</style>\n",
       "<table border=\"1\" class=\"dataframe\">\n",
       "  <thead>\n",
       "    <tr style=\"text-align: right;\">\n",
       "      <th></th>\n",
       "      <th>PostalCode</th>\n",
       "      <th>Borough</th>\n",
       "      <th>Neighborhood</th>\n",
       "      <th>Latitude</th>\n",
       "      <th>Longitude</th>\n",
       "    </tr>\n",
       "  </thead>\n",
       "  <tbody>\n",
       "    <tr>\n",
       "      <th>0</th>\n",
       "      <td>3000</td>\n",
       "      <td>Leuven</td>\n",
       "      <td>Leuven</td>\n",
       "      <td>50.881253</td>\n",
       "      <td>4.692990</td>\n",
       "    </tr>\n",
       "    <tr>\n",
       "      <th>1</th>\n",
       "      <td>3001</td>\n",
       "      <td>Leuven</td>\n",
       "      <td>Heverlee</td>\n",
       "      <td>50.851729</td>\n",
       "      <td>4.693131</td>\n",
       "    </tr>\n",
       "    <tr>\n",
       "      <th>2</th>\n",
       "      <td>3010</td>\n",
       "      <td>Leuven</td>\n",
       "      <td>Kessel-Lo</td>\n",
       "      <td>50.889915</td>\n",
       "      <td>4.730761</td>\n",
       "    </tr>\n",
       "    <tr>\n",
       "      <th>3</th>\n",
       "      <td>3012</td>\n",
       "      <td>Leuven</td>\n",
       "      <td>Wilsele</td>\n",
       "      <td>50.909536</td>\n",
       "      <td>4.713629</td>\n",
       "    </tr>\n",
       "    <tr>\n",
       "      <th>4</th>\n",
       "      <td>3018</td>\n",
       "      <td>Leuven</td>\n",
       "      <td>Wijgmaal</td>\n",
       "      <td>50.926428</td>\n",
       "      <td>4.700121</td>\n",
       "    </tr>\n",
       "  </tbody>\n",
       "</table>\n",
       "</div>"
      ],
      "text/plain": [
       "  PostalCode Borough Neighborhood   Latitude  Longitude\n",
       "0       3000  Leuven       Leuven  50.881253   4.692990\n",
       "1       3001  Leuven     Heverlee  50.851729   4.693131\n",
       "2       3010  Leuven    Kessel-Lo  50.889915   4.730761\n",
       "3       3012  Leuven      Wilsele  50.909536   4.713629\n",
       "4       3018  Leuven     Wijgmaal  50.926428   4.700121"
      ]
     },
     "execution_count": 26,
     "metadata": {},
     "output_type": "execute_result"
    }
   ],
   "source": [
    "# add the longtitude adn latitude columns to our LeuvenDF \n",
    "LeuvenDF[['Latitude','Longitude']]=LeuvenLocationDF[['Latitude','Longitude']]\n",
    "LeuvenDF.head()"
   ]
  },
  {
   "cell_type": "code",
   "execution_count": 26,
   "metadata": {},
   "outputs": [
    {
     "data": {
      "text/html": [
       "<div>\n",
       "<style scoped>\n",
       "    .dataframe tbody tr th:only-of-type {\n",
       "        vertical-align: middle;\n",
       "    }\n",
       "\n",
       "    .dataframe tbody tr th {\n",
       "        vertical-align: top;\n",
       "    }\n",
       "\n",
       "    .dataframe thead th {\n",
       "        text-align: right;\n",
       "    }\n",
       "</style>\n",
       "<table border=\"1\" class=\"dataframe\">\n",
       "  <thead>\n",
       "    <tr style=\"text-align: right;\">\n",
       "      <th></th>\n",
       "      <th>PostalCode</th>\n",
       "      <th>Borough</th>\n",
       "      <th>Neighborhood</th>\n",
       "      <th>Latitude</th>\n",
       "      <th>Longitude</th>\n",
       "    </tr>\n",
       "  </thead>\n",
       "  <tbody>\n",
       "    <tr>\n",
       "      <th>0</th>\n",
       "      <td>True</td>\n",
       "      <td>True</td>\n",
       "      <td>True</td>\n",
       "      <td>True</td>\n",
       "      <td>True</td>\n",
       "    </tr>\n",
       "    <tr>\n",
       "      <th>1</th>\n",
       "      <td>True</td>\n",
       "      <td>True</td>\n",
       "      <td>True</td>\n",
       "      <td>True</td>\n",
       "      <td>True</td>\n",
       "    </tr>\n",
       "    <tr>\n",
       "      <th>2</th>\n",
       "      <td>True</td>\n",
       "      <td>True</td>\n",
       "      <td>True</td>\n",
       "      <td>True</td>\n",
       "      <td>True</td>\n",
       "    </tr>\n",
       "    <tr>\n",
       "      <th>3</th>\n",
       "      <td>True</td>\n",
       "      <td>True</td>\n",
       "      <td>True</td>\n",
       "      <td>True</td>\n",
       "      <td>True</td>\n",
       "    </tr>\n",
       "    <tr>\n",
       "      <th>4</th>\n",
       "      <td>True</td>\n",
       "      <td>True</td>\n",
       "      <td>True</td>\n",
       "      <td>True</td>\n",
       "      <td>True</td>\n",
       "    </tr>\n",
       "  </tbody>\n",
       "</table>\n",
       "</div>"
      ],
      "text/plain": [
       "   PostalCode  Borough  Neighborhood  Latitude  Longitude\n",
       "0        True     True          True      True       True\n",
       "1        True     True          True      True       True\n",
       "2        True     True          True      True       True\n",
       "3        True     True          True      True       True\n",
       "4        True     True          True      True       True"
      ]
     },
     "execution_count": 26,
     "metadata": {},
     "output_type": "execute_result"
    }
   ],
   "source": [
    "#we have the same data from both methods (geolocator/web file download)\n",
    "LeuvenDF1==LeuvenDF"
   ]
  },
  {
   "cell_type": "code",
   "execution_count": 27,
   "metadata": {},
   "outputs": [
    {
     "data": {
      "text/html": [
       "<div>\n",
       "<style scoped>\n",
       "    .dataframe tbody tr th:only-of-type {\n",
       "        vertical-align: middle;\n",
       "    }\n",
       "\n",
       "    .dataframe tbody tr th {\n",
       "        vertical-align: top;\n",
       "    }\n",
       "\n",
       "    .dataframe thead th {\n",
       "        text-align: right;\n",
       "    }\n",
       "</style>\n",
       "<table border=\"1\" class=\"dataframe\">\n",
       "  <thead>\n",
       "    <tr style=\"text-align: right;\">\n",
       "      <th></th>\n",
       "      <th>PostalCode</th>\n",
       "      <th>Borough</th>\n",
       "      <th>Neighborhood</th>\n",
       "      <th>Latitude</th>\n",
       "      <th>Longitude</th>\n",
       "    </tr>\n",
       "  </thead>\n",
       "  <tbody>\n",
       "    <tr>\n",
       "      <th>0</th>\n",
       "      <td>3000</td>\n",
       "      <td>Leuven</td>\n",
       "      <td>Leuven</td>\n",
       "      <td>50.881253</td>\n",
       "      <td>4.692990</td>\n",
       "    </tr>\n",
       "    <tr>\n",
       "      <th>1</th>\n",
       "      <td>3001</td>\n",
       "      <td>Leuven</td>\n",
       "      <td>Heverlee</td>\n",
       "      <td>50.851729</td>\n",
       "      <td>4.693131</td>\n",
       "    </tr>\n",
       "    <tr>\n",
       "      <th>2</th>\n",
       "      <td>3010</td>\n",
       "      <td>Leuven</td>\n",
       "      <td>Kessel-Lo</td>\n",
       "      <td>50.889915</td>\n",
       "      <td>4.730761</td>\n",
       "    </tr>\n",
       "    <tr>\n",
       "      <th>3</th>\n",
       "      <td>3012</td>\n",
       "      <td>Leuven</td>\n",
       "      <td>Wilsele</td>\n",
       "      <td>50.909536</td>\n",
       "      <td>4.713629</td>\n",
       "    </tr>\n",
       "    <tr>\n",
       "      <th>4</th>\n",
       "      <td>3018</td>\n",
       "      <td>Leuven</td>\n",
       "      <td>Wijgmaal</td>\n",
       "      <td>50.926428</td>\n",
       "      <td>4.700121</td>\n",
       "    </tr>\n",
       "  </tbody>\n",
       "</table>\n",
       "</div>"
      ],
      "text/plain": [
       "  PostalCode Borough Neighborhood   Latitude  Longitude\n",
       "0       3000  Leuven       Leuven  50.881253   4.692990\n",
       "1       3001  Leuven     Heverlee  50.851729   4.693131\n",
       "2       3010  Leuven    Kessel-Lo  50.889915   4.730761\n",
       "3       3012  Leuven      Wilsele  50.909536   4.713629\n",
       "4       3018  Leuven     Wijgmaal  50.926428   4.700121"
      ]
     },
     "execution_count": 27,
     "metadata": {},
     "output_type": "execute_result"
    }
   ],
   "source": [
    "#save the new DF with location info into csv file\n",
    "LeuvenDF.to_csv('LeuvenDFpart2.csv', encoding='utf-8', index=False)\n",
    "LeuvenDF"
   ]
  },
  {
   "cell_type": "code",
   "execution_count": 55,
   "metadata": {},
   "outputs": [],
   "source": [
    "LeuvenDF.to_json('LeuvenDFpart2.json')"
   ]
  },
  {
   "cell_type": "code",
   "execution_count": 28,
   "metadata": {},
   "outputs": [
    {
     "name": "stdout",
     "output_type": "stream",
     "text": [
      "The dataframe has 1 boroughs and 5 neighborhoods.\n"
     ]
    }
   ],
   "source": [
    "#to see howmany unique neighborhoods in Leuven\n",
    "print('The dataframe has {} boroughs and {} neighborhoods.'.format(\n",
    "        len(LeuvenDF['Borough'].unique()),\n",
    "        LeuvenDF.shape[0]\n",
    "    )\n",
    ")"
   ]
  },
  {
   "cell_type": "markdown",
   "metadata": {},
   "source": [
    "##################################################################################################################\n",
    " <a href=\"#item3\">Gathering Foursquare Data</a>"
   ]
  },
  {
   "cell_type": "markdown",
   "metadata": {},
   "source": [
    "Leuven has 5 unique postal codes. \n",
    "We will continue data gathering here in order to later explore, analysis and cluster the neighborhoods in Leuven. We will  work with Neighborhoods  Leuven (City Center); Heverlee,Kessel-Lo, Wilsele, Wijgmaal. In order to segment the neighborhoods and explore them, we will essentially need a dataset that contains also the latitude and logitude coordinates of each neighborhood. With that information we will get the venues data from Foursquare."
   ]
  },
  {
   "cell_type": "markdown",
   "metadata": {},
   "source": [
    "We can in this phase use the location information of neighborhoods that we have already have in Leuven Data frame. We will use this info for getting data from Foursquare. \n",
    "\n",
    "We can also use  geopy library to get the location values of Leuven. In order to define an instance of the geocoder, we need to define a user_agent. We will name our agent <em>leuven_explorer</em>, as shown below.\n",
    "#################################################################################################################"
   ]
  },
  {
   "cell_type": "code",
   "execution_count": 29,
   "metadata": {},
   "outputs": [
    {
     "name": "stdout",
     "output_type": "stream",
     "text": [
      "The geograpical coordinates of Leuven City are 50.879202, 4.7011675.\n"
     ]
    }
   ],
   "source": [
    "#we can get the location data of Leuven from already prepared LeuvenDF\n",
    "\n",
    "latitude= float(LeuvenDF[0:1]['Latitude'])\n",
    "longitude= float(LeuvenDF[0:1]['Longitude'])\n",
    "\n",
    "#alternative method is using Nominatim and geolocator\n",
    "address = '3000 Leuven'\n",
    "\n",
    "geolocator = Nominatim(user_agent=\"leuven_explorer\")\n",
    "location = geolocator.geocode(address)\n",
    "latitude = location.latitude\n",
    "longitude = location.longitude\n",
    "print('The geograpical coordinates of Leuven City are {}, {}.'.format(latitude, longitude))\n"
   ]
  },
  {
   "cell_type": "markdown",
   "metadata": {},
   "source": [
    "#### Create a map of Leuven with neighborhoods superimposed on top.\n",
    "In this step, we would like to step the map of Leuven to get an overall idea how can we get venues data from Fourqsuare by later determining the radius length around the center points of neighborhoods. "
   ]
  },
  {
   "cell_type": "code",
   "execution_count": 30,
   "metadata": {},
   "outputs": [
    {
     "data": {
      "text/html": [
       "<div style=\"width:100%;\"><div style=\"position:relative;width:100%;height:0;padding-bottom:60%;\"><iframe src=\"data:text/html;charset=utf-8;base64,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\" style=\"position:absolute;width:100%;height:100%;left:0;top:0;border:none !important;\" allowfullscreen webkitallowfullscreen mozallowfullscreen></iframe></div></div>"
      ],
      "text/plain": [
       "<folium.folium.Map at 0x7ff469e695c0>"
      ]
     },
     "execution_count": 30,
     "metadata": {},
     "output_type": "execute_result"
    }
   ],
   "source": [
    "\n",
    "# create map of Leuven using latitude and longitude values\n",
    "map_leuven = folium.Map(location=[latitude, longitude], zoom_start=12)\n",
    "neighborhoods=LeuvenDF\n",
    "# add markers to map\n",
    "for lat, lng, borough, neighborhood in zip(neighborhoods['Latitude'], neighborhoods['Longitude'], neighborhoods['Borough'], neighborhoods['Neighborhood']):\n",
    "    label = '{}, {}'.format(neighborhood, borough)\n",
    "    label = folium.Popup(label, parse_html=True)\n",
    "    folium.CircleMarker(\n",
    "        [lat, lng],\n",
    "        radius=5,\n",
    "        popup=label,\n",
    "        color='red',\n",
    "        fill=True,\n",
    "        fill_color='#3186cc',\n",
    "        fill_opacity=0.7,\n",
    "        parse_html=False).add_to(map_leuven)  \n",
    "    \n",
    "map_leuven"
   ]
  },
  {
   "cell_type": "markdown",
   "metadata": {},
   "source": [
    "Next, we are going to start utilizing the Foursquare API to get the venue information of  the neighborhoods and segment them."
   ]
  },
  {
   "cell_type": "markdown",
   "metadata": {},
   "source": [
    "#### Define Foursquare Credentials and Version"
   ]
  },
  {
   "cell_type": "code",
   "execution_count": 31,
   "metadata": {},
   "outputs": [
    {
     "name": "stdout",
     "output_type": "stream",
     "text": [
      "Your credentails:\n",
      "CLIENT_ID: IAYTHJO0R2Y5KEZEJX1QLME20C5CBB5TPA5NHSWT1COADQA3\n",
      "CLIENT_SECRET:5EYRUPZTYZE5A0R2X04KQIFISBCGLCMV3TYRU4I00MHYRKPK\n"
     ]
    }
   ],
   "source": [
    "CLIENT_ID = 'IAYTHJO0R2Y5KEZEJX1QLME20C5CBB5TPA5NHSWT1COADQA3' # your Foursquare ID\n",
    "CLIENT_SECRET = '5EYRUPZTYZE5A0R2X04KQIFISBCGLCMV3TYRU4I00MHYRKPK' # your Foursquare Secret\n",
    "VERSION = '20180605' # Foursquare API version\n",
    "\n",
    "print('Your credentails:')\n",
    "print('CLIENT_ID: ' + CLIENT_ID)\n",
    "print('CLIENT_SECRET:' + CLIENT_SECRET)"
   ]
  },
  {
   "cell_type": "markdown",
   "metadata": {},
   "source": [
    "#### Lets get venues data of Neighborhoods in Leuven (5 neighborhoods). \n",
    "We first define a function as follows"
   ]
  },
  {
   "cell_type": "code",
   "execution_count": 32,
   "metadata": {},
   "outputs": [],
   "source": [
    "def getNearbyVenues(names, latitudes, longitudes, radius=1500):\n",
    "    \n",
    "    venues_list=[]\n",
    "    for name, lat, lng in zip(names, latitudes, longitudes):\n",
    "        print(name)\n",
    "            \n",
    "        # create the API request URL\n",
    "        url = 'https://api.foursquare.com/v2/venues/explore?&client_id={}&client_secret={}&v={}&ll={},{}&radius={}&limit={}'.format(\n",
    "            CLIENT_ID, \n",
    "            CLIENT_SECRET, \n",
    "            VERSION, \n",
    "            lat, \n",
    "            lng, \n",
    "            radius, \n",
    "            LIMIT)\n",
    "            \n",
    "        # make the GET request\n",
    "        results = requests.get(url).json()[\"response\"]['groups'][0]['items']\n",
    "        \n",
    "        # return only relevant information for each nearby venue\n",
    "        venues_list.append([(\n",
    "            name, \n",
    "            lat, \n",
    "            lng,      \n",
    "            v['venue']['name'], \n",
    "            v['venue']['location']['lat'], \n",
    "            v['venue']['location']['lng'],  \n",
    "            v['venue']['location']['distance'],\n",
    "            v['reasons']['items'][0]['summary'],\n",
    "            v['venue']['categories'][0]['name']) for v in results])\n",
    "        \n",
    "   \n",
    "        \n",
    "    nearby_venues = pd.DataFrame([item for venue_list in venues_list for item in venue_list])\n",
    "    nearby_venues.columns = ['Neighborhood', \n",
    "                  'Neighborhood Latitude', \n",
    "                  'Neighborhood Longitude', \n",
    "                  'Venue', \n",
    "                  'Venue Latitude', \n",
    "                  'Venue Longitude',\n",
    "                  'Venue Distance',\n",
    "                   'Venue Summary',\n",
    "                  'Venue Category']\n",
    "    return(nearby_venues)"
   ]
  },
  {
   "cell_type": "code",
   "execution_count": 33,
   "metadata": {},
   "outputs": [
    {
     "name": "stdout",
     "output_type": "stream",
     "text": [
      "Leuven\n",
      " Heverlee\n",
      " Kessel-Lo\n",
      " Wilsele\n",
      " Wijgmaal\n"
     ]
    }
   ],
   "source": [
    "#### Now lets write the code to run the above function on each neighborhood and create a new dataframe called *leuven_venues*.\n",
    "# Leuven-Venues\n",
    "# To get 150 venues that are in the 1500 radius of neighborhoods\n",
    "radius=1500\n",
    "LIMIT=150\n",
    "leuven_venues = getNearbyVenues(names=LeuvenDF['Neighborhood'],\n",
    "                                   latitudes=LeuvenDF['Latitude'],\n",
    "                                   longitudes=LeuvenDF['Longitude']\n",
    "                                  )\n",
    "# the names of 5 Neighborhoods in these 1 boroughs are written inside the function "
   ]
  },
  {
   "cell_type": "code",
   "execution_count": 34,
   "metadata": {},
   "outputs": [
    {
     "name": "stdout",
     "output_type": "stream",
     "text": [
      "(294, 9)\n"
     ]
    },
    {
     "data": {
      "text/html": [
       "<div>\n",
       "<style scoped>\n",
       "    .dataframe tbody tr th:only-of-type {\n",
       "        vertical-align: middle;\n",
       "    }\n",
       "\n",
       "    .dataframe tbody tr th {\n",
       "        vertical-align: top;\n",
       "    }\n",
       "\n",
       "    .dataframe thead th {\n",
       "        text-align: right;\n",
       "    }\n",
       "</style>\n",
       "<table border=\"1\" class=\"dataframe\">\n",
       "  <thead>\n",
       "    <tr style=\"text-align: right;\">\n",
       "      <th></th>\n",
       "      <th>Neighborhood</th>\n",
       "      <th>Neighborhood Latitude</th>\n",
       "      <th>Neighborhood Longitude</th>\n",
       "      <th>Venue</th>\n",
       "      <th>Venue Latitude</th>\n",
       "      <th>Venue Longitude</th>\n",
       "      <th>Venue Distance</th>\n",
       "      <th>Venue Summary</th>\n",
       "      <th>Venue Category</th>\n",
       "    </tr>\n",
       "  </thead>\n",
       "  <tbody>\n",
       "    <tr>\n",
       "      <th>289</th>\n",
       "      <td>Wijgmaal</td>\n",
       "      <td>50.926428</td>\n",
       "      <td>4.700121</td>\n",
       "      <td>Sportlokaal</td>\n",
       "      <td>50.924938</td>\n",
       "      <td>4.686548</td>\n",
       "      <td>966</td>\n",
       "      <td>This spot is popular</td>\n",
       "      <td>Bar</td>\n",
       "    </tr>\n",
       "    <tr>\n",
       "      <th>290</th>\n",
       "      <td>Wijgmaal</td>\n",
       "      <td>50.926428</td>\n",
       "      <td>4.700121</td>\n",
       "      <td>Lijnloperspad</td>\n",
       "      <td>50.917226</td>\n",
       "      <td>4.706344</td>\n",
       "      <td>1113</td>\n",
       "      <td>This spot is popular</td>\n",
       "      <td>Bike Trail</td>\n",
       "    </tr>\n",
       "    <tr>\n",
       "      <th>291</th>\n",
       "      <td>Wijgmaal</td>\n",
       "      <td>50.926428</td>\n",
       "      <td>4.700121</td>\n",
       "      <td>Apotheek Haegemans</td>\n",
       "      <td>50.917074</td>\n",
       "      <td>4.685834</td>\n",
       "      <td>1445</td>\n",
       "      <td>This spot is popular</td>\n",
       "      <td>Pharmacy</td>\n",
       "    </tr>\n",
       "    <tr>\n",
       "      <th>292</th>\n",
       "      <td>Wijgmaal</td>\n",
       "      <td>50.926428</td>\n",
       "      <td>4.700121</td>\n",
       "      <td>Apotheek Adriaens</td>\n",
       "      <td>50.922932</td>\n",
       "      <td>4.720527</td>\n",
       "      <td>1483</td>\n",
       "      <td>This spot is popular</td>\n",
       "      <td>Pharmacy</td>\n",
       "    </tr>\n",
       "    <tr>\n",
       "      <th>293</th>\n",
       "      <td>Wijgmaal</td>\n",
       "      <td>50.926428</td>\n",
       "      <td>4.700121</td>\n",
       "      <td>Nachtwinkel Euro</td>\n",
       "      <td>50.924335</td>\n",
       "      <td>4.721062</td>\n",
       "      <td>1487</td>\n",
       "      <td>This spot is popular</td>\n",
       "      <td>Convenience Store</td>\n",
       "    </tr>\n",
       "  </tbody>\n",
       "</table>\n",
       "</div>"
      ],
      "text/plain": [
       "    Neighborhood  Neighborhood Latitude  Neighborhood Longitude  \\\n",
       "289     Wijgmaal              50.926428                4.700121   \n",
       "290     Wijgmaal              50.926428                4.700121   \n",
       "291     Wijgmaal              50.926428                4.700121   \n",
       "292     Wijgmaal              50.926428                4.700121   \n",
       "293     Wijgmaal              50.926428                4.700121   \n",
       "\n",
       "                  Venue  Venue Latitude  Venue Longitude  Venue Distance  \\\n",
       "289         Sportlokaal       50.924938         4.686548             966   \n",
       "290       Lijnloperspad       50.917226         4.706344            1113   \n",
       "291  Apotheek Haegemans       50.917074         4.685834            1445   \n",
       "292   Apotheek Adriaens       50.922932         4.720527            1483   \n",
       "293    Nachtwinkel Euro       50.924335         4.721062            1487   \n",
       "\n",
       "            Venue Summary     Venue Category  \n",
       "289  This spot is popular                Bar  \n",
       "290  This spot is popular         Bike Trail  \n",
       "291  This spot is popular           Pharmacy  \n",
       "292  This spot is popular           Pharmacy  \n",
       "293  This spot is popular  Convenience Store  "
      ]
     },
     "execution_count": 34,
     "metadata": {},
     "output_type": "execute_result"
    }
   ],
   "source": [
    "# Let's check the size of the resulting dataframe\n",
    "print(leuven_venues.shape)\n",
    "leuven_venues.tail()"
   ]
  },
  {
   "cell_type": "code",
   "execution_count": 35,
   "metadata": {},
   "outputs": [
    {
     "data": {
      "text/html": [
       "<div>\n",
       "<style scoped>\n",
       "    .dataframe tbody tr th:only-of-type {\n",
       "        vertical-align: middle;\n",
       "    }\n",
       "\n",
       "    .dataframe tbody tr th {\n",
       "        vertical-align: top;\n",
       "    }\n",
       "\n",
       "    .dataframe thead th {\n",
       "        text-align: right;\n",
       "    }\n",
       "</style>\n",
       "<table border=\"1\" class=\"dataframe\">\n",
       "  <thead>\n",
       "    <tr style=\"text-align: right;\">\n",
       "      <th></th>\n",
       "      <th>Neighborhood</th>\n",
       "      <th>Neighborhood Latitude</th>\n",
       "      <th>Neighborhood Longitude</th>\n",
       "      <th>Venue</th>\n",
       "      <th>Venue Latitude</th>\n",
       "      <th>Venue Longitude</th>\n",
       "      <th>Venue Distance</th>\n",
       "      <th>Venue Summary</th>\n",
       "      <th>Venue Category</th>\n",
       "    </tr>\n",
       "  </thead>\n",
       "  <tbody>\n",
       "    <tr>\n",
       "      <th>0</th>\n",
       "      <td>Leuven</td>\n",
       "      <td>50.881253</td>\n",
       "      <td>4.69299</td>\n",
       "      <td>Bar Berlin</td>\n",
       "      <td>50.880699</td>\n",
       "      <td>4.692575</td>\n",
       "      <td>68</td>\n",
       "      <td>This spot is popular</td>\n",
       "      <td>Coffee Shop</td>\n",
       "    </tr>\n",
       "    <tr>\n",
       "      <th>1</th>\n",
       "      <td>Leuven</td>\n",
       "      <td>50.881253</td>\n",
       "      <td>4.69299</td>\n",
       "      <td>Dijleterrassen</td>\n",
       "      <td>50.881423</td>\n",
       "      <td>4.696980</td>\n",
       "      <td>280</td>\n",
       "      <td>This spot is popular</td>\n",
       "      <td>Plaza</td>\n",
       "    </tr>\n",
       "    <tr>\n",
       "      <th>2</th>\n",
       "      <td>Leuven</td>\n",
       "      <td>50.881253</td>\n",
       "      <td>4.69299</td>\n",
       "      <td>El Sombrero</td>\n",
       "      <td>50.881635</td>\n",
       "      <td>4.696864</td>\n",
       "      <td>275</td>\n",
       "      <td>This spot is popular</td>\n",
       "      <td>Mexican Restaurant</td>\n",
       "    </tr>\n",
       "    <tr>\n",
       "      <th>3</th>\n",
       "      <td>Leuven</td>\n",
       "      <td>50.881253</td>\n",
       "      <td>4.69299</td>\n",
       "      <td>De Frittoerist</td>\n",
       "      <td>50.879483</td>\n",
       "      <td>4.690391</td>\n",
       "      <td>268</td>\n",
       "      <td>This spot is popular</td>\n",
       "      <td>Friterie</td>\n",
       "    </tr>\n",
       "    <tr>\n",
       "      <th>4</th>\n",
       "      <td>Leuven</td>\n",
       "      <td>50.881253</td>\n",
       "      <td>4.69299</td>\n",
       "      <td>Kruidtuin</td>\n",
       "      <td>50.878124</td>\n",
       "      <td>4.690770</td>\n",
       "      <td>381</td>\n",
       "      <td>This spot is popular</td>\n",
       "      <td>Botanical Garden</td>\n",
       "    </tr>\n",
       "  </tbody>\n",
       "</table>\n",
       "</div>"
      ],
      "text/plain": [
       "  Neighborhood  Neighborhood Latitude  Neighborhood Longitude           Venue  \\\n",
       "0       Leuven              50.881253                 4.69299      Bar Berlin   \n",
       "1       Leuven              50.881253                 4.69299  Dijleterrassen   \n",
       "2       Leuven              50.881253                 4.69299     El Sombrero   \n",
       "3       Leuven              50.881253                 4.69299  De Frittoerist   \n",
       "4       Leuven              50.881253                 4.69299       Kruidtuin   \n",
       "\n",
       "   Venue Latitude  Venue Longitude  Venue Distance         Venue Summary  \\\n",
       "0       50.880699         4.692575              68  This spot is popular   \n",
       "1       50.881423         4.696980             280  This spot is popular   \n",
       "2       50.881635         4.696864             275  This spot is popular   \n",
       "3       50.879483         4.690391             268  This spot is popular   \n",
       "4       50.878124         4.690770             381  This spot is popular   \n",
       "\n",
       "       Venue Category  \n",
       "0         Coffee Shop  \n",
       "1               Plaza  \n",
       "2  Mexican Restaurant  \n",
       "3            Friterie  \n",
       "4    Botanical Garden  "
      ]
     },
     "execution_count": 35,
     "metadata": {},
     "output_type": "execute_result"
    }
   ],
   "source": [
    "leuven_venues.head()"
   ]
  },
  {
   "cell_type": "code",
   "execution_count": 36,
   "metadata": {},
   "outputs": [],
   "source": [
    "## End of Processing the Retrieved Information from Foursquare\n",
    "## Saving a Cleaned Version of DataFrame as the Results from Foursquare \n",
    "leuven_venues.to_csv('leuven_venues.csv')\n",
    "leuven_venues = pd.read_csv('leuven_venues.csv')\n",
    "leuven_venues.to_json('leuven_venues.json')"
   ]
  },
  {
   "cell_type": "markdown",
   "metadata": {},
   "source": [
    "### Sharing valuable and useful info is a Win-Win Situation for the World \n",
    "#### Levent BINGOL - levobelgium@gmail.com"
   ]
  },
  {
   "cell_type": "markdown",
   "metadata": {},
   "source": []
  },
  {
   "cell_type": "code",
   "execution_count": null,
   "metadata": {},
   "outputs": [],
   "source": []
  }
 ],
 "metadata": {
  "kernelspec": {
   "display_name": "Python 3",
   "language": "python",
   "name": "python3"
  },
  "language_info": {
   "codemirror_mode": {
    "name": "ipython",
    "version": 3
   },
   "file_extension": ".py",
   "mimetype": "text/x-python",
   "name": "python",
   "nbconvert_exporter": "python",
   "pygments_lexer": "ipython3",
   "version": "3.6.8"
  }
 },
 "nbformat": 4,
 "nbformat_minor": 2
}
